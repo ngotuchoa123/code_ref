{
  "nbformat": 4,
  "nbformat_minor": 0,
  "metadata": {
    "colab": {
      "name": "1MG_code_final.ipynb",
      "provenance": [],
      "collapsed_sections": []
    },
    "kernelspec": {
      "name": "python3",
      "display_name": "Python 3"
    }
  },
  "cells": [
    {
      "cell_type": "markdown",
      "metadata": {
        "id": "T6S5Aa7mHvYw"
      },
      "source": [
        "**Implement a model that predicts which customers make at least 1 purchase in a given month using features generated from the 2 previous months.**"
      ]
    },
    {
      "cell_type": "markdown",
      "metadata": {
        "id": "XCHH4nJx3Qf2"
      },
      "source": [
        "**Loading libraries**"
      ]
    },
    {
      "cell_type": "code",
      "metadata": {
        "id": "CUDwTGWEQH2P"
      },
      "source": [
        "%matplotlib inline\n",
        "import json\n",
        "import pandas as pd\n",
        "import numpy as np\n",
        "pd.set_option('display.max_columns', None)\n",
        "import sklearn\n",
        "from xgboost import XGBClassifier\n",
        "from sklearn.model_selection import train_test_split\n",
        "from sklearn.metrics import accuracy_score\n",
        "from sklearn.metrics import auc\n",
        "from sklearn import metrics\n",
        "import matplotlib.pyplot as plt\n",
        "from sklearn.svm import SVC\n",
        "from sklearn.ensemble import RandomForestClassifier\n"
      ],
      "execution_count": 4,
      "outputs": []
    },
    {
      "cell_type": "markdown",
      "metadata": {
        "id": "NhCigiEL3aaX"
      },
      "source": [
        "**Uploading data to google drive**"
      ]
    },
    {
      "cell_type": "code",
      "metadata": {
        "id": "YohXIJAUQKI9",
        "colab": {
          "resources": {
            "http://localhost:8080/nbextensions/google.colab/files.js": {
              "data": "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",
              "ok": true,
              "headers": [
                [
                  "content-type",
                  "application/javascript"
                ]
              ],
              "status": 200,
              "status_text": ""
            }
          },
          "base_uri": "https://localhost:8080/",
          "height": 55
        },
        "outputId": "3f9b4376-a317-40ef-9407-8ce138fbf48b"
      },
      "source": [
        "from google.colab import files\n",
        "uploaded = files.upload()"
      ],
      "execution_count": null,
      "outputs": [
        {
          "output_type": "display_data",
          "data": {
            "text/html": [
              "\n",
              "     <input type=\"file\" id=\"files-da9256e5-8087-44fd-87a9-381025fb6ecd\" name=\"files[]\" multiple disabled\n",
              "        style=\"border:none\" />\n",
              "     <output id=\"result-da9256e5-8087-44fd-87a9-381025fb6ecd\">\n",
              "      Upload widget is only available when the cell has been executed in the\n",
              "      current browser session. Please rerun this cell to enable.\n",
              "      </output>\n",
              "      <script src=\"/nbextensions/google.colab/files.js\"></script> "
            ],
            "text/plain": [
              "<IPython.core.display.HTML object>"
            ]
          },
          "metadata": {
            "tags": []
          }
        },
        {
          "output_type": "stream",
          "text": [
            "Saving VinIDRecruitChallenge_MLTrack_DataSet.csv to VinIDRecruitChallenge_MLTrack_DataSet.csv\n"
          ],
          "name": "stdout"
        }
      ]
    },
    {
      "cell_type": "code",
      "metadata": {
        "colab": {
          "base_uri": "https://localhost:8080/"
        },
        "id": "WvOhhFxjOXH9",
        "outputId": "af9edc57-364b-4d3b-b40b-3f0bc9a9b268"
      },
      "source": [
        "from google.colab import drive\n",
        "drive.mount('/content/drive')"
      ],
      "execution_count": 1,
      "outputs": [
        {
          "output_type": "stream",
          "text": [
            "Mounted at /content/drive\n"
          ],
          "name": "stdout"
        }
      ]
    },
    {
      "cell_type": "code",
      "metadata": {
        "colab": {
          "base_uri": "https://localhost:8080/"
        },
        "id": "y05GaFWWO56Y",
        "outputId": "647a7c26-f2a0-4928-9333-573fe652f90e"
      },
      "source": [
        "%cd /content/drive/MyDrive/"
      ],
      "execution_count": 2,
      "outputs": [
        {
          "output_type": "stream",
          "text": [
            "/content/drive/MyDrive\n"
          ],
          "name": "stdout"
        }
      ]
    },
    {
      "cell_type": "code",
      "metadata": {
        "id": "mOnx9lBIQSX6",
        "colab": {
          "base_uri": "https://localhost:8080/"
        },
        "outputId": "fb0ce878-25b7-446a-e8fa-1390e55c3ad1"
      },
      "source": [
        "df = pd.read_csv('VinIDRecruitChallenge_MLTrack_DataSet.csv')\n",
        "print('=================================================')\n",
        "print('=================================================')\n",
        "print('df.head',df.head())\n",
        "print('=================================================')\n",
        "print('=================================================')\n",
        "print('df.info',df.info())\n",
        "print('=================================================')\n",
        "print('=================================================')\n",
        "print('df.shape',df.shape)\n",
        "print('=================================================')\n",
        "print('=================================================')"
      ],
      "execution_count": 5,
      "outputs": [
        {
          "output_type": "stream",
          "text": [
            "=================================================\n",
            "=================================================\n",
            "df.head             csn        date                                   transaction_info\n",
            "0  Y2NgaWJoYw==  2018-03-02  [{'article': '10020163', 'salesquantity': 2.0,...\n",
            "1  Y2NgaWJoYw==  2018-03-04  [{'article': '10026562', 'salesquantity': 3.0,...\n",
            "2  Y2NgaWlpYA==  2018-02-27  [{'article': '10013531', 'salesquantity': 1.0,...\n",
            "3  Y2NgaWlpYA==  2018-03-16  [{'article': '10008991', 'salesquantity': 1.0,...\n",
            "4  Y2NgaWlpYA==  2018-05-24  [{'article': '10009698', 'salesquantity': 1.0,...\n",
            "=================================================\n",
            "=================================================\n",
            "<class 'pandas.core.frame.DataFrame'>\n",
            "RangeIndex: 131794 entries, 0 to 131793\n",
            "Data columns (total 3 columns):\n",
            " #   Column            Non-Null Count   Dtype \n",
            "---  ------            --------------   ----- \n",
            " 0   csn               131794 non-null  object\n",
            " 1   date              131794 non-null  object\n",
            " 2   transaction_info  131794 non-null  object\n",
            "dtypes: object(3)\n",
            "memory usage: 3.0+ MB\n",
            "df.info None\n",
            "=================================================\n",
            "=================================================\n",
            "df.shape (131794, 3)\n",
            "=================================================\n",
            "=================================================\n"
          ],
          "name": "stdout"
        }
      ]
    },
    {
      "cell_type": "markdown",
      "metadata": {
        "id": "DlF4zPVJPnYA"
      },
      "source": [
        "****"
      ]
    },
    {
      "cell_type": "markdown",
      "metadata": {
        "id": "igxc01EYhmpW"
      },
      "source": [
        "**Parsing json format**"
      ]
    },
    {
      "cell_type": "code",
      "metadata": {
        "id": "0F7SvniLWVen",
        "colab": {
          "base_uri": "https://localhost:8080/"
        },
        "outputId": "43c2a8ed-171f-4002-ef20-ea08692f4d0f"
      },
      "source": [
        "#for i in range(df.shape[0]):\n",
        "#    df['transaction_info'][i] = json.loads(df['transaction_info'][i].replace('\\'','\\\"'))\n",
        "#    #if i % 10000 == 0:  print(i)\n",
        "\n",
        "df['transaction_info'] = df['transaction_info'].apply(lambda x: json.loads(x.replace('\\'','\\\"')))\n",
        "\n",
        "df = df.to_json(orient=\"records\")\n",
        "df = json.loads(df)\n",
        "df = pd.json_normalize(df,'transaction_info',['csn','date'])    \n",
        "\n",
        "print('=================================================')\n",
        "print('=================================================')\n",
        "print('df.head',df.head())\n",
        "print('=================================================')\n",
        "print('=================================================')\n",
        "print('df.info',df.info())\n",
        "print('=================================================')\n",
        "print('=================================================')\n",
        "print('df.shape',df.shape)\n",
        "print('=================================================')\n",
        "print('=================================================')\n",
        "\n",
        "df.date=pd.to_datetime(df.date, format='%Y-%m-%d')\n",
        "\n",
        "#df.date.hist()\n",
        "\n",
        "print('df.describe',df.describe(include = 'all'))\n",
        "print('=================================================')\n",
        "print('=================================================')\n",
        "# article unique     19359\n",
        "# csn     unique     20000\n",
        "# 993512 article from 2018-02-01 to 2018-06-30\n",
        "df.to_csv('df_after_parse_json_format.csv')"
      ],
      "execution_count": 6,
      "outputs": [
        {
          "output_type": "stream",
          "text": [
            "=================================================\n",
            "=================================================\n",
            "df.head     article  salesquantity    price           csn        date\n",
            "0  10020163            2.0  18250.0  Y2NgaWJoYw==  2018-03-02\n",
            "1  10026562            3.0  13000.0  Y2NgaWJoYw==  2018-03-04\n",
            "2  10320883            2.0  43000.0  Y2NgaWJoYw==  2018-03-04\n",
            "3  10013531            1.0  17800.0  Y2NgaWlpYA==  2018-02-27\n",
            "4  10015613            1.0   5600.0  Y2NgaWlpYA==  2018-02-27\n",
            "=================================================\n",
            "=================================================\n",
            "<class 'pandas.core.frame.DataFrame'>\n",
            "RangeIndex: 993512 entries, 0 to 993511\n",
            "Data columns (total 5 columns):\n",
            " #   Column         Non-Null Count   Dtype  \n",
            "---  ------         --------------   -----  \n",
            " 0   article        993512 non-null  object \n",
            " 1   salesquantity  993512 non-null  float64\n",
            " 2   price          993512 non-null  float64\n",
            " 3   csn            993512 non-null  object \n",
            " 4   date           993512 non-null  object \n",
            "dtypes: float64(2), object(3)\n",
            "memory usage: 37.9+ MB\n",
            "df.info None\n",
            "=================================================\n",
            "=================================================\n",
            "df.shape (993512, 5)\n",
            "=================================================\n",
            "=================================================\n"
          ],
          "name": "stdout"
        },
        {
          "output_type": "stream",
          "text": [
            "/usr/local/lib/python3.6/dist-packages/ipykernel_launcher.py:27: FutureWarning: Treating datetime data as categorical rather than numeric in `.describe` is deprecated and will be removed in a future version of pandas. Specify `datetime_is_numeric=True` to silence this warning and adopt the future behavior now.\n"
          ],
          "name": "stderr"
        },
        {
          "output_type": "stream",
          "text": [
            "df.describe          article  salesquantity         price       csn                 date\n",
            "count     993512  993512.000000  9.935120e+05    993512               993512\n",
            "unique     19359            NaN           NaN     20000                  147\n",
            "top     10083185            NaN           NaN  ZGZobWZq  2018-02-11 00:00:00\n",
            "freq       11454            NaN           NaN      1184                17585\n",
            "first        NaN            NaN           NaN       NaN  2018-02-01 00:00:00\n",
            "last         NaN            NaN           NaN       NaN  2018-06-30 00:00:00\n",
            "mean         NaN       2.453600  5.847608e+04       NaN                  NaN\n",
            "std          NaN     123.067588  8.675746e+04       NaN                  NaN\n",
            "min          NaN       0.002000  1.666700e+02       NaN                  NaN\n",
            "25%          NaN       0.624000  1.410000e+04       NaN                  NaN\n",
            "50%          NaN       1.000000  3.200000e+04       NaN                  NaN\n",
            "75%          NaN       1.042000  6.780000e+04       NaN                  NaN\n",
            "max          NaN   57000.000000  5.900000e+06       NaN                  NaN\n",
            "=================================================\n",
            "=================================================\n"
          ],
          "name": "stdout"
        }
      ]
    },
    {
      "cell_type": "markdown",
      "metadata": {
        "id": "MG4z0eYvkCLg"
      },
      "source": [
        "**Creating year_month and amount columns**"
      ]
    },
    {
      "cell_type": "code",
      "metadata": {
        "id": "x_ujzKn2QU1x",
        "colab": {
          "base_uri": "https://localhost:8080/"
        },
        "outputId": "5e9f660b-ce50-4f0f-afd7-0a06ba06e24a"
      },
      "source": [
        "df.date=pd.to_datetime(df.date, format='%Y-%m-%d')\n",
        "df['year_month'] = df['date'].apply(lambda x:  int(str(x.year) + '0' + str(x.month)))\n",
        "print(df['year_month'].value_counts())\n",
        "#df.head()\n",
        "df['amount'] = df['salesquantity']*df['price']\n",
        "print(df.columns)"
      ],
      "execution_count": 7,
      "outputs": [
        {
          "output_type": "stream",
          "text": [
            "201802    219691\n",
            "201805    195016\n",
            "201806    194955\n",
            "201803    192263\n",
            "201804    191587\n",
            "Name: year_month, dtype: int64\n",
            "Index(['article', 'salesquantity', 'price', 'csn', 'date', 'year_month',\n",
            "       'amount'],\n",
            "      dtype='object')\n"
          ],
          "name": "stdout"
        }
      ]
    },
    {
      "cell_type": "markdown",
      "metadata": {
        "id": "uq0ltwNzkUxJ"
      },
      "source": [
        "**Feature based on transactions last 1 month**"
      ]
    },
    {
      "cell_type": "code",
      "metadata": {
        "id": "njOr0DkfUrg2",
        "colab": {
          "base_uri": "https://localhost:8080/"
        },
        "outputId": "7440d6c5-9dbf-4c7a-bbf4-a512eee98a5a"
      },
      "source": [
        "salesquantity_feature_last_1m = df.groupby(['csn','year_month'])['salesquantity'].agg([('sum_salesquantity',np.sum),('min_salesquantity',np.min),('median_salesquantity',np.median),('mean_salesquantity',np.mean),('max_salesquantity',np.max),('std_salesquantity',np.std), ('count_salesquantity','count')]).reset_index()\n",
        "price_feature_last_1m = df.groupby(['csn','year_month'])['price'].agg([('sum_price',np.sum),('min_price',np.min),('median_price',np.median),('mean_price',np.mean),('max_price',np.max),('std_price',np.std)]).reset_index()\n",
        "amount_feature_last_1m = df.groupby(['csn','year_month'])['amount'].agg([('sum_amount',np.sum),('min_amount',np.min),('median_amount',np.median),('mean_amount',np.mean),('max_amount',np.max),('std_amount',np.std)]).reset_index()\n",
        "feature_last_1m = pd.merge(salesquantity_feature_last_1m,price_feature_last_1m,on=['csn','year_month'],how='left')\n",
        "feature_last_1m = pd.merge(feature_last_1m,amount_feature_last_1m,on=['csn','year_month'],how='left')\n",
        "feature_last_1m = feature_last_1m.rename(columns=lambda s: s + '_last_1m')\n",
        "feature_last_1m = feature_last_1m.rename(columns={'csn_last_1m':'csn','year_month_last_1m':'year_month'})\n",
        "print(feature_last_1m.columns)\n"
      ],
      "execution_count": 8,
      "outputs": [
        {
          "output_type": "stream",
          "text": [
            "Index(['csn', 'year_month', 'sum_salesquantity_last_1m',\n",
            "       'min_salesquantity_last_1m', 'median_salesquantity_last_1m',\n",
            "       'mean_salesquantity_last_1m', 'max_salesquantity_last_1m',\n",
            "       'std_salesquantity_last_1m', 'count_salesquantity_last_1m',\n",
            "       'sum_price_last_1m', 'min_price_last_1m', 'median_price_last_1m',\n",
            "       'mean_price_last_1m', 'max_price_last_1m', 'std_price_last_1m',\n",
            "       'sum_amount_last_1m', 'min_amount_last_1m', 'median_amount_last_1m',\n",
            "       'mean_amount_last_1m', 'max_amount_last_1m', 'std_amount_last_1m'],\n",
            "      dtype='object')\n"
          ],
          "name": "stdout"
        }
      ]
    },
    {
      "cell_type": "markdown",
      "metadata": {
        "id": "5L6nMKS9kpDw"
      },
      "source": [
        "**Feature based on transactions last 2 months**"
      ]
    },
    {
      "cell_type": "code",
      "metadata": {
        "id": "vaS2uWa6VXXt"
      },
      "source": [
        "# base1 (predict do a purchase on apr2018): feature based on feb2018 and mar2018\n",
        "salesquantity_feature_last_2m_base1 = df[(df.year_month == 201803) | (df.year_month == 201802)].groupby(['csn'])['salesquantity'].agg([('sum_salesquantity',np.sum),('min_salesquantity',np.min),('median_salesquantity',np.median),('mean_salesquantity',np.mean),('max_salesquantity',np.max),('std_salesquantity',np.std), ('count_salesquantity','count')]).reset_index()\n",
        "price_feature_last_2m_base1 = df[(df.year_month == 201803) | (df.year_month == 201802)].groupby(['csn'])['price'].agg([('sum_price',np.sum),('min_price',np.min),('median_price',np.median),('mean_price',np.mean),('max_price',np.max),('std_price',np.std)]).reset_index()\n",
        "amount_feature_last_2m_base1 = df[(df.year_month == 201803) | (df.year_month == 201802)].groupby(['csn'])['amount'].agg([('sum_amount',np.sum),('min_amount',np.min),('median_amount',np.median),('mean_amount',np.mean),('max_amount',np.max),('std_amount',np.std)]).reset_index()\n",
        "feature_last_2m_base1 = pd.merge(salesquantity_feature_last_2m_base1,price_feature_last_2m_base1,on=['csn'],how='left')\n",
        "feature_last_2m_base1 = pd.merge(feature_last_2m_base1,amount_feature_last_2m_base1,on=['csn'],how='left')\n",
        "feature_last_2m_base1 = feature_last_2m_base1.rename(columns=lambda s: s + '_last_2m')\n",
        "feature_last_2m_base1 = feature_last_2m_base1.rename(columns={'csn_last_2m':'csn'})\n",
        "\n",
        "# base2 (predict do a purchase on may2018): feature based on mar2018 and apr2018\n",
        "\n",
        "salesquantity_feature_last_2m_base2 = df[(df.year_month == 201804) | (df.year_month == 201803)].groupby(['csn'])['salesquantity'].agg([('sum_salesquantity',np.sum),('min_salesquantity',np.min),('median_salesquantity',np.median),('mean_salesquantity',np.mean),('max_salesquantity',np.max),('std_salesquantity',np.std), ('count_salesquantity','count')]).reset_index()\n",
        "price_feature_last_2m_base2 = df[(df.year_month == 201804) | (df.year_month == 201803)].groupby(['csn'])['price'].agg([('sum_price',np.sum),('min_price',np.min),('median_price',np.median),('mean_price',np.mean),('max_price',np.max),('std_price',np.std)]).reset_index()\n",
        "amount_feature_last_2m_base2 = df[(df.year_month == 201804) | (df.year_month == 201803)].groupby(['csn'])['amount'].agg([('sum_amount',np.sum),('min_amount',np.min),('median_amount',np.median),('mean_amount',np.mean),('max_amount',np.max),('std_amount',np.std)]).reset_index()\n",
        "feature_last_2m_base2 = pd.merge(salesquantity_feature_last_2m_base2,price_feature_last_2m_base2,on=['csn'],how='left')\n",
        "feature_last_2m_base2 = pd.merge(feature_last_2m_base2,amount_feature_last_2m_base2,on=['csn'],how='left')\n",
        "feature_last_2m_base2 = feature_last_2m_base2.rename(columns=lambda s: s + '_last_2m')\n",
        "feature_last_2m_base2 = feature_last_2m_base2.rename(columns={'csn_last_2m':'csn'})\n",
        "\n",
        "# base3 (predict do a purchase on jun2018): feature based on apr2018 and may2018\n",
        "\n",
        "salesquantity_feature_last_2m_base3 = df[(df.year_month == 201805) | (df.year_month == 201804)].groupby(['csn'])['salesquantity'].agg([('sum_salesquantity',np.sum),('min_salesquantity',np.min),('median_salesquantity',np.median),('mean_salesquantity',np.mean),('max_salesquantity',np.max),('std_salesquantity',np.std), ('count_salesquantity','count')]).reset_index()\n",
        "price_feature_last_2m_base3 = df[(df.year_month == 201805) | (df.year_month == 201804)].groupby(['csn'])['price'].agg([('sum_price',np.sum),('min_price',np.min),('median_price',np.median),('mean_price',np.mean),('max_price',np.max),('std_price',np.std)]).reset_index()\n",
        "amount_feature_last_2m_base3 = df[(df.year_month == 201805) | (df.year_month == 201804)].groupby(['csn'])['amount'].agg([('sum_amount',np.sum),('min_amount',np.min),('median_amount',np.median),('mean_amount',np.mean),('max_amount',np.max),('std_amount',np.std)]).reset_index()\n",
        "feature_last_2m_base3 = pd.merge(salesquantity_feature_last_2m_base3,price_feature_last_2m_base3,on=['csn'],how='left')\n",
        "feature_last_2m_base3 = pd.merge(feature_last_2m_base3,amount_feature_last_2m_base3,on=['csn'],how='left')\n",
        "feature_last_2m_base3 = feature_last_2m_base3.rename(columns=lambda s: s + '_last_2m')\n",
        "feature_last_2m_base3 = feature_last_2m_base3.rename(columns={'csn_last_2m':'csn'})"
      ],
      "execution_count": 9,
      "outputs": []
    },
    {
      "cell_type": "markdown",
      "metadata": {
        "id": "NmIetWTek77Z"
      },
      "source": [
        "**Sampling **"
      ]
    },
    {
      "cell_type": "code",
      "metadata": {
        "id": "SRLO9NWilA9E",
        "colab": {
          "base_uri": "https://localhost:8080/"
        },
        "outputId": "11e24366-5d00-423e-c402-e2012ad3722f"
      },
      "source": [
        "#%%% Base1 (predict do a purchase on apr2018), Base2 (predict do a purchase on may2018), Base3 (predict do a purchase on jun2018), \n",
        "\n",
        "base1 = pd.DataFrame(df.csn[(df.year_month == 201803) | (df.year_month == 201802)].drop_duplicates())\n",
        "base1['target'] = base1['csn'].isin(df.csn[df.year_month == 201804].drop_duplicates())\n",
        "base1 = pd.merge(base1,feature_last_2m_base1,on=['csn'],how='left')\n",
        "base1 = pd.merge(base1,feature_last_1m[feature_last_1m.year_month==201803],on=['csn'],how='left')\n",
        "base1.year_month = 201803\n",
        "print(base1.shape)\n",
        "print('=================================================')\n",
        "print('=================================================')\n",
        "base2 = pd.DataFrame(df.csn[(df.year_month == 201804) | (df.year_month == 201803)].drop_duplicates())\n",
        "base2['target'] = base2['csn'].isin(df.csn[df.year_month == 201805].drop_duplicates())\n",
        "base2 = pd.merge(base2,feature_last_2m_base2,on=['csn'],how='left')\n",
        "base2 = pd.merge(base2,feature_last_1m[feature_last_1m.year_month==201804],on=['csn'],how='left')\n",
        "base2.year_month = 201804\n",
        "print(base2.shape)\n",
        "print('=================================================')\n",
        "print('=================================================')\n",
        "base3 = pd.DataFrame(df.csn[(df.year_month == 201805) | (df.year_month == 201804)].drop_duplicates())\n",
        "base3['target'] = base3['csn'].isin(df.csn[df.year_month == 201806].drop_duplicates())\n",
        "base3 = pd.merge(base3,feature_last_2m_base3,on=['csn'],how='left')\n",
        "base3 = pd.merge(base3,feature_last_1m[feature_last_1m.year_month==201805],on=['csn'],how='left')\n",
        "base3.year_month = 201805\n",
        "print(base3.shape)\n",
        "print('=================================================')\n",
        "print('=================================================')\n",
        "\n",
        "base_all = base1.append(base2) \n",
        "base_all = base_all.append(base3) \n",
        "base_all.to_csv('base_all.csv')\n",
        "print('=================================================')\n",
        "print('=================================================')\n",
        "print(base_all.info())\n",
        "print('=================================================')\n",
        "print('=================================================')\n",
        "print(base_all.year_month.value_counts())\n",
        "print('=================================================')\n",
        "print('=================================================')\n",
        "print(base_all.shape)\n",
        "print('=================================================')\n",
        "print('=================================================')\n",
        "\n",
        "print(base_all['target'].value_counts())\n",
        "base_all['target'] = np.multiply(base_all['target'], 1)\n",
        "print('=================================================')\n",
        "print('=================================================')\n",
        "print(base_all['target'].value_counts())\n",
        "print('=================================================')\n",
        "print('=================================================')"
      ],
      "execution_count": 10,
      "outputs": [
        {
          "output_type": "stream",
          "text": [
            "(13284, 41)\n",
            "=================================================\n",
            "=================================================\n",
            "(12521, 41)\n",
            "=================================================\n",
            "=================================================\n",
            "(12713, 41)\n",
            "=================================================\n",
            "=================================================\n",
            "=================================================\n",
            "=================================================\n",
            "<class 'pandas.core.frame.DataFrame'>\n",
            "Int64Index: 38518 entries, 0 to 12712\n",
            "Data columns (total 41 columns):\n",
            " #   Column                        Non-Null Count  Dtype  \n",
            "---  ------                        --------------  -----  \n",
            " 0   csn                           38518 non-null  object \n",
            " 1   target                        38518 non-null  bool   \n",
            " 2   sum_salesquantity_last_2m     38518 non-null  float64\n",
            " 3   min_salesquantity_last_2m     38518 non-null  float64\n",
            " 4   median_salesquantity_last_2m  38518 non-null  float64\n",
            " 5   mean_salesquantity_last_2m    38518 non-null  float64\n",
            " 6   max_salesquantity_last_2m     38518 non-null  float64\n",
            " 7   std_salesquantity_last_2m     36928 non-null  float64\n",
            " 8   count_salesquantity_last_2m   38518 non-null  int64  \n",
            " 9   sum_price_last_2m             38518 non-null  float64\n",
            " 10  min_price_last_2m             38518 non-null  float64\n",
            " 11  median_price_last_2m          38518 non-null  float64\n",
            " 12  mean_price_last_2m            38518 non-null  float64\n",
            " 13  max_price_last_2m             38518 non-null  float64\n",
            " 14  std_price_last_2m             36928 non-null  float64\n",
            " 15  sum_amount_last_2m            38518 non-null  float64\n",
            " 16  min_amount_last_2m            38518 non-null  float64\n",
            " 17  median_amount_last_2m         38518 non-null  float64\n",
            " 18  mean_amount_last_2m           38518 non-null  float64\n",
            " 19  max_amount_last_2m            38518 non-null  float64\n",
            " 20  std_amount_last_2m            36928 non-null  float64\n",
            " 21  year_month                    38518 non-null  int64  \n",
            " 22  sum_salesquantity_last_1m     27124 non-null  float64\n",
            " 23  min_salesquantity_last_1m     27124 non-null  float64\n",
            " 24  median_salesquantity_last_1m  27124 non-null  float64\n",
            " 25  mean_salesquantity_last_1m    27124 non-null  float64\n",
            " 26  max_salesquantity_last_1m     27124 non-null  float64\n",
            " 27  std_salesquantity_last_1m     25911 non-null  float64\n",
            " 28  count_salesquantity_last_1m   27124 non-null  float64\n",
            " 29  sum_price_last_1m             27124 non-null  float64\n",
            " 30  min_price_last_1m             27124 non-null  float64\n",
            " 31  median_price_last_1m          27124 non-null  float64\n",
            " 32  mean_price_last_1m            27124 non-null  float64\n",
            " 33  max_price_last_1m             27124 non-null  float64\n",
            " 34  std_price_last_1m             25911 non-null  float64\n",
            " 35  sum_amount_last_1m            27124 non-null  float64\n",
            " 36  min_amount_last_1m            27124 non-null  float64\n",
            " 37  median_amount_last_1m         27124 non-null  float64\n",
            " 38  mean_amount_last_1m           27124 non-null  float64\n",
            " 39  max_amount_last_1m            27124 non-null  float64\n",
            " 40  std_amount_last_1m            25911 non-null  float64\n",
            "dtypes: bool(1), float64(37), int64(2), object(1)\n",
            "memory usage: 12.1+ MB\n",
            "None\n",
            "=================================================\n",
            "=================================================\n",
            "201803    13284\n",
            "201805    12713\n",
            "201804    12521\n",
            "Name: year_month, dtype: int64\n",
            "=================================================\n",
            "=================================================\n",
            "(38518, 41)\n",
            "=================================================\n",
            "=================================================\n",
            "True     19390\n",
            "False    19128\n",
            "Name: target, dtype: int64\n",
            "=================================================\n",
            "=================================================\n",
            "1    19390\n",
            "0    19128\n",
            "Name: target, dtype: int64\n",
            "=================================================\n",
            "=================================================\n"
          ],
          "name": "stdout"
        }
      ]
    },
    {
      "cell_type": "markdown",
      "metadata": {
        "id": "wz8tMiv1lGbU"
      },
      "source": [
        "**Training with SVC, RandomForestClassifier, XGBClassifier**\n",
        "**Based on Gini: select XGBClassifier**"
      ]
    },
    {
      "cell_type": "code",
      "metadata": {
        "id": "RuSfa29VlJdk",
        "colab": {
          "base_uri": "https://localhost:8080/",
          "height": 1000
        },
        "outputId": "5ebbe005-ce70-44a0-ee20-95735524875b"
      },
      "source": [
        "#%%%% Training\n",
        "dataset = base_all.loc[(base_all.year_month == 201804) | (base_all.year_month == 201803),]\n",
        "dataset_oot = base_all.loc[(base_all.year_month == 201805),]\n",
        "dataset = dataset.drop(['csn','year_month','sum_price_last_2m','sum_price_last_1m'], axis=1)\n",
        "dataset_oot = dataset_oot.drop(['csn','year_month','sum_price_last_2m','sum_price_last_1m'], axis=1)\n",
        "\n",
        "X_oot = dataset_oot.iloc[:,1:]\n",
        "y_oot = dataset_oot.iloc[:,0]\n",
        "\n",
        "X = dataset.iloc[:,1:]\n",
        "Y = dataset.iloc[:,0]\n",
        "\n",
        "seed = 7\n",
        "test_size = 0.33\n",
        "X_train, X_test, y_train, y_test = train_test_split(X, Y, test_size=test_size, random_state=seed)\n",
        "\n",
        "# fit RandomForestClassifier model \n",
        "rfc = RandomForestClassifier(max_depth=3,random_state=seed) #overfitting if we dont set max_depth=3\n",
        "rfc.fit(X_train.fillna(1.1e-20), y_train)\n",
        "\n",
        "print('=================================================')\n",
        "print('=================================================')\n",
        "print('RandomForestClassifier')\n",
        "print(rfc)\n",
        "print('=================================================')\n",
        "print('=================================================')\n",
        "\n",
        "print('=================================================')\n",
        "print('=================================================')\n",
        "print('RandomForestClassifier')\n",
        "fpr, tpr, thresholds = metrics.roc_curve(y_train, rfc.predict_proba(X_train.fillna(1.1e-20))[:,1])\n",
        "print('gini_train',2*metrics.auc(fpr, tpr)-1)\n",
        "fpr, tpr, thresholds = metrics.roc_curve(y_test, rfc.predict_proba(X_test.fillna(1.1e-20))[:,1])\n",
        "print('gini_test',2*metrics.auc(fpr, tpr)-1)\n",
        "fpr, tpr, thresholds = metrics.roc_curve(y_oot, rfc.predict_proba(X_oot.fillna(1.1e-20))[:,1])\n",
        "print('gini_oot',2*metrics.auc(fpr, tpr)-1)\n",
        "print('=================================================')\n",
        "print('=================================================')\n",
        "print('SVC')\n",
        "# fit SVC model \n",
        "\n",
        "from sklearn.pipeline import make_pipeline\n",
        "from sklearn.preprocessing import StandardScaler\n",
        "svc = make_pipeline(StandardScaler(), SVC(probability=True,random_state=seed))\n",
        "\n",
        "svc.fit(X_train.fillna(0), y_train)\n",
        "print('=================================================')\n",
        "print('=================================================')\n",
        "print('SVC')\n",
        "print(svc)\n",
        "print('=================================================')\n",
        "print('=================================================')\n",
        "\n",
        "fpr, tpr, thresholds = metrics.roc_curve(y_train, svc.predict_proba(X_train.fillna(0))[:,1])\n",
        "print('gini_train',2*metrics.auc(fpr, tpr)-1)\n",
        "fpr, tpr, thresholds = metrics.roc_curve(y_test, svc.predict_proba(X_test.fillna(0))[:,1])\n",
        "print('gini_test',2*metrics.auc(fpr, tpr)-1)\n",
        "fpr, tpr, thresholds = metrics.roc_curve(y_oot, svc.predict_proba(X_oot.fillna(0))[:,1])\n",
        "print('gini_oot',2*metrics.auc(fpr, tpr)-1)\n",
        "\n",
        "\n",
        "\n",
        "# fit XGBClassifier model \n",
        "model = XGBClassifier(random_state=seed,seed=seed)\n",
        "model.fit(X_train, y_train)\n",
        "\n",
        "print('=================================================')\n",
        "print('=================================================')\n",
        "print('XGBClassifier')\n",
        "print(model)\n",
        "print('=================================================')\n",
        "print('=================================================')\n",
        "fpr, tpr, thresholds = metrics.roc_curve(y_train, model.predict_proba(X_train)[:,1])\n",
        "print('gini_train',2*metrics.auc(fpr, tpr)-1)\n",
        "\n",
        "fpr, tpr, thresholds = metrics.roc_curve(y_test, model.predict_proba(X_test)[:,1])\n",
        "print('gini_test',2*metrics.auc(fpr, tpr)-1)\n",
        "\n",
        "fpr, tpr, thresholds = metrics.roc_curve(y_oot, model.predict_proba(X_oot)[:,1])\n",
        "print('gini_oot',2*metrics.auc(fpr, tpr)-1)\n",
        "\n",
        "print('=================================================')\n",
        "print('=================================================')\n",
        "plt.plot(fpr,tpr)\n",
        "print('=================================================')\n",
        "print('=================================================')\n",
        "importances = pd.DataFrame({\n",
        "    'Feature': X_train.columns,\n",
        "    'Importance': model.feature_importances_\n",
        "})\n",
        "importances = importances.sort_values(by='Importance', ascending=False)\n",
        "importances = importances.set_index('Feature')\n",
        "importances\n",
        "print('=================================================')\n",
        "print('=================================================')\n",
        "importances[:10].plot.bar()\n",
        "print('=================================================')\n",
        "print('=================================================')"
      ],
      "execution_count": 11,
      "outputs": [
        {
          "output_type": "stream",
          "text": [
            "=================================================\n",
            "=================================================\n",
            "RandomForestClassifier\n",
            "RandomForestClassifier(bootstrap=True, ccp_alpha=0.0, class_weight=None,\n",
            "                       criterion='gini', max_depth=3, max_features='auto',\n",
            "                       max_leaf_nodes=None, max_samples=None,\n",
            "                       min_impurity_decrease=0.0, min_impurity_split=None,\n",
            "                       min_samples_leaf=1, min_samples_split=2,\n",
            "                       min_weight_fraction_leaf=0.0, n_estimators=100,\n",
            "                       n_jobs=None, oob_score=False, random_state=7, verbose=0,\n",
            "                       warm_start=False)\n",
            "=================================================\n",
            "=================================================\n",
            "=================================================\n",
            "=================================================\n",
            "RandomForestClassifier\n",
            "gini_train 0.5774735976252716\n",
            "gini_test 0.5519307017743202\n",
            "gini_oot 0.5592873910132412\n",
            "=================================================\n",
            "=================================================\n",
            "SVC\n",
            "=================================================\n",
            "=================================================\n",
            "SVC\n",
            "Pipeline(memory=None,\n",
            "         steps=[('standardscaler',\n",
            "                 StandardScaler(copy=True, with_mean=True, with_std=True)),\n",
            "                ('svc',\n",
            "                 SVC(C=1.0, break_ties=False, cache_size=200, class_weight=None,\n",
            "                     coef0=0.0, decision_function_shape='ovr', degree=3,\n",
            "                     gamma='scale', kernel='rbf', max_iter=-1, probability=True,\n",
            "                     random_state=7, shrinking=True, tol=0.001,\n",
            "                     verbose=False))],\n",
            "         verbose=False)\n",
            "=================================================\n",
            "=================================================\n",
            "gini_train 0.5727118129261279\n",
            "gini_test 0.545633014208283\n",
            "gini_oot 0.5515700459058879\n",
            "=================================================\n",
            "=================================================\n",
            "XGBClassifier\n",
            "XGBClassifier(base_score=0.5, booster='gbtree', colsample_bylevel=1,\n",
            "              colsample_bynode=1, colsample_bytree=1, gamma=0,\n",
            "              learning_rate=0.1, max_delta_step=0, max_depth=3,\n",
            "              min_child_weight=1, missing=None, n_estimators=100, n_jobs=1,\n",
            "              nthread=None, objective='binary:logistic', random_state=7,\n",
            "              reg_alpha=0, reg_lambda=1, scale_pos_weight=1, seed=7,\n",
            "              silent=None, subsample=1, verbosity=1)\n",
            "=================================================\n",
            "=================================================\n",
            "gini_train 0.6301672163782246\n",
            "gini_test 0.5699362845689695\n",
            "gini_oot 0.5779551154092175\n",
            "=================================================\n",
            "=================================================\n",
            "=================================================\n",
            "=================================================\n",
            "=================================================\n",
            "=================================================\n",
            "=================================================\n",
            "=================================================\n"
          ],
          "name": "stdout"
        },
        {
          "output_type": "display_data",
          "data": {
            "image/png": "[encoded data removed]",
            "text/plain": [
              "<Figure size 432x288 with 1 Axes>"
            ]
          },
          "metadata": {
            "tags": [],
            "needs_background": "light"
          }
        },
        {
          "output_type": "display_data",
          "data": {
            "image/png": "[encoded data removed]",
            "text/plain": [
              "<Figure size 432x288 with 1 Axes>"
            ]
          },
          "metadata": {
            "tags": [],
            "needs_background": "light"
          }
        }
      ]
    },
    {
      "cell_type": "markdown",
      "metadata": {
        "id": "RKngov8GnJyf"
      },
      "source": [
        "**Tuning XGB**"
      ]
    },
    {
      "cell_type": "code",
      "metadata": {
        "id": "tiaERs_g6lJ5",
        "colab": {
          "base_uri": "https://localhost:8080/"
        },
        "outputId": "429d522e-ad7e-447f-fa43-dceead8d78a6"
      },
      "source": [
        "import timeit\n",
        "\n",
        "start = timeit.default_timer()\n",
        "\n",
        "from sklearn.model_selection import GridSearchCV\n",
        "\n",
        "params = {'gamma': [0.1, 1],\n",
        "          'learning_rate': [0.01, 0.1],\n",
        "          'max_depth': [3, 5],\n",
        "        'min_child_weight': [1, 100],\n",
        "        'n_estimators': [100, 200],\n",
        "        'subsample': [1.0],\n",
        "        'colsample_bytree': [1.0],\n",
        "        \n",
        "        }\n",
        "\n",
        "gsearch1 = GridSearchCV(estimator = XGBClassifier(objective= 'binary:logistic', nthread=4, random_state=seed,seed=seed), \n",
        " param_grid = params, scoring='roc_auc',n_jobs=-1)\n",
        "\n",
        "gsearch1.fit(X_train, y_train)\n",
        "#gsearch1.best_score_, gsearch1.best_params_, gsearch1.best_score_\n",
        "\n",
        "print('tuned XGBClassifier')\n",
        "print(gsearch1)\n",
        "print('=================================================')\n",
        "print('=================================================')\n",
        "fpr, tpr, thresholds = metrics.roc_curve(y_train, gsearch1.predict_proba(X_train)[:,1])\n",
        "print('gini_train',2*metrics.auc(fpr, tpr)-1)\n",
        "\n",
        "fpr, tpr, thresholds = metrics.roc_curve(y_test, gsearch1.predict_proba(X_test)[:,1])\n",
        "print('gini_test',2*metrics.auc(fpr, tpr)-1)\n",
        "\n",
        "fpr, tpr, thresholds = metrics.roc_curve(y_oot, gsearch1.predict_proba(X_oot)[:,1])\n",
        "print('gini_oot',2*metrics.auc(fpr, tpr)-1)\n",
        "\n",
        "print('=================================================')\n",
        "print('=================================================')\n",
        "\n",
        "stop = timeit.default_timer()\n",
        "\n",
        "print('Time: ', (stop - start)/60)  "
      ],
      "execution_count": 22,
      "outputs": [
        {
          "output_type": "stream",
          "text": [
            "tuned XGBClassifier\n",
            "GridSearchCV(cv=None, error_score=nan,\n",
            "             estimator=XGBClassifier(base_score=0.5, booster='gbtree',\n",
            "                                     colsample_bylevel=1, colsample_bynode=1,\n",
            "                                     colsample_bytree=1, gamma=0,\n",
            "                                     learning_rate=0.1, max_delta_step=0,\n",
            "                                     max_depth=3, min_child_weight=1,\n",
            "                                     missing=None, n_estimators=100, n_jobs=1,\n",
            "                                     nthread=4, objective='binary:logistic',\n",
            "                                     random_state=7, reg_alpha=0, reg_lambda=1,\n",
            "                                     scale_pos_weight=1, seed=7, silent=None,\n",
            "                                     subsample=1, verbosity=1),\n",
            "             iid='deprecated', n_jobs=-1,\n",
            "             param_grid={'colsample_bytree': [1.0], 'gamma': [0.1, 1],\n",
            "                         'learning_rate': [0.01, 0.1], 'max_depth': [3, 5],\n",
            "                         'min_child_weight': [1, 100],\n",
            "                         'n_estimators': [100, 200], 'subsample': [1.0]},\n",
            "             pre_dispatch='2*n_jobs', refit=True, return_train_score=False,\n",
            "             scoring='roc_auc', verbose=0)\n",
            "=================================================\n",
            "=================================================\n",
            "gini_train 0.6131000482529942\n",
            "gini_test 0.5705837753450251\n",
            "gini_oot 0.577714888886447\n",
            "=================================================\n",
            "=================================================\n",
            "Time:  14.675034643099995\n"
          ],
          "name": "stdout"
        }
      ]
    },
    {
      "cell_type": "code",
      "metadata": {
        "colab": {
          "base_uri": "https://localhost:8080/"
        },
        "id": "w5ecrZMimlqA",
        "outputId": "8378480a-b2f1-4525-c8e7-c3fc8d7d1b98"
      },
      "source": [
        "print(gsearch1.best_estimator_)"
      ],
      "execution_count": 23,
      "outputs": [
        {
          "output_type": "stream",
          "text": [
            "XGBClassifier(base_score=0.5, booster='gbtree', colsample_bylevel=1,\n",
            "              colsample_bynode=1, colsample_bytree=1.0, gamma=0.1,\n",
            "              learning_rate=0.01, max_delta_step=0, max_depth=5,\n",
            "              min_child_weight=100, missing=None, n_estimators=200, n_jobs=1,\n",
            "              nthread=4, objective='binary:logistic', random_state=7,\n",
            "              reg_alpha=0, reg_lambda=1, scale_pos_weight=1, seed=7,\n",
            "              silent=None, subsample=1.0, verbosity=1)\n"
          ],
          "name": "stdout"
        }
      ]
    },
    {
      "cell_type": "markdown",
      "metadata": {
        "id": "cYXsboDYnVko"
      },
      "source": [
        "**Final model**"
      ]
    },
    {
      "cell_type": "code",
      "metadata": {
        "colab": {
          "base_uri": "https://localhost:8080/"
        },
        "id": "F5XuNxRunTCP",
        "outputId": "58422033-9eb4-4a5c-a04c-2deefff1b990"
      },
      "source": [
        "\n",
        "model_final = XGBClassifier(random_state=seed,seed=seed,colsample_bytree=1.0, gamma=0.1, learning_rate=0.01, max_depth=5,\n",
        "              min_child_weight=100, n_estimators=200, nthread=4, subsample=1.0)\n",
        "model_final.fit(X_train, y_train)\n",
        "\n",
        "print('=================================================')\n",
        "print('=================================================')\n",
        "print('XGBClassifier')\n",
        "print(model_final)\n",
        "print('=================================================')\n",
        "print('=================================================')\n",
        "fpr, tpr, thresholds = metrics.roc_curve(y_train, model_final.predict_proba(X_train)[:,1])\n",
        "print('gini_train',2*metrics.auc(fpr, tpr)-1)\n",
        "\n",
        "fpr, tpr, thresholds = metrics.roc_curve(y_test, model_final.predict_proba(X_test)[:,1])\n",
        "print('gini_test',2*metrics.auc(fpr, tpr)-1)\n",
        "\n",
        "fpr, tpr, thresholds = metrics.roc_curve(y_oot, model_final.predict_proba(X_oot)[:,1])\n",
        "print('gini_oot',2*metrics.auc(fpr, tpr)-1)\n",
        "\n",
        "print('=================================================')\n",
        "print('=================================================')\n",
        "#plt.plot(fpr,tpr)\n",
        "print('=================================================')\n",
        "print('=================================================')\n",
        "importances = pd.DataFrame({\n",
        "    'Feature': X_train.columns,\n",
        "    'Importance': model_final.feature_importances_\n",
        "})\n",
        "importances = importances.sort_values(by='Importance', ascending=False)\n",
        "importances = importances.set_index('Feature')\n",
        "importances\n",
        "print('=================================================')\n",
        "print('=================================================')\n",
        "#importances[:10].plot.bar()\n",
        "\n",
        "importances.to_csv('importances.csv')"
      ],
      "execution_count": 27,
      "outputs": [
        {
          "output_type": "stream",
          "text": [
            "=================================================\n",
            "=================================================\n",
            "XGBClassifier\n",
            "XGBClassifier(base_score=0.5, booster='gbtree', colsample_bylevel=1,\n",
            "              colsample_bynode=1, colsample_bytree=1.0, gamma=0.1,\n",
            "              learning_rate=0.01, max_delta_step=0, max_depth=5,\n",
            "              min_child_weight=100, missing=None, n_estimators=200, n_jobs=1,\n",
            "              nthread=4, objective='binary:logistic', random_state=7,\n",
            "              reg_alpha=0, reg_lambda=1, scale_pos_weight=1, seed=7,\n",
            "              silent=None, subsample=1.0, verbosity=1)\n",
            "=================================================\n",
            "=================================================\n",
            "gini_train 0.6131000482529942\n",
            "gini_test 0.5705837753450251\n",
            "gini_oot 0.577714888886447\n",
            "=================================================\n",
            "=================================================\n",
            "=================================================\n",
            "=================================================\n",
            "=================================================\n",
            "=================================================\n"
          ],
          "name": "stdout"
        }
      ]
    },
    {
      "cell_type": "markdown",
      "metadata": {
        "id": "c9u0vF2Xtyw6"
      },
      "source": [
        "**For reporting and strategy**"
      ]
    },
    {
      "cell_type": "code",
      "metadata": {
        "colab": {
          "base_uri": "https://localhost:8080/"
        },
        "id": "Raaqt36hnvYp",
        "outputId": "7878de0e-12ee-487f-f6dc-e06f985e5b72"
      },
      "source": [
        "\n",
        "output_train = model_final.predict_proba(X_train)[:,1]\n",
        "output_train = pd.DataFrame({'quantile':output_train})\n",
        "cutoff = output_train.quantile([0.9, .8, .7, .6, .5, .4, .3, .2, .1])\n",
        "\n",
        "cutoff = cutoff['quantile'].to_list()\n",
        "def quantile_dev(x,cutoff):\n",
        "    if x>=cutoff[0]:\n",
        "        return 1\n",
        "    elif x>=cutoff[1]:\n",
        "        return 2\n",
        "    elif x>=cutoff[2]:\n",
        "        return 3\n",
        "    elif x>=cutoff[3]:\n",
        "        return 4\n",
        "    elif x>=cutoff[4]:\n",
        "        return 5\n",
        "    elif x>=cutoff[5]:\n",
        "        return 6\n",
        "    elif x>=cutoff[6]:\n",
        "        return 7\n",
        "    elif x>=cutoff[7]:\n",
        "        return 8\n",
        "    elif x>=cutoff[8]:\n",
        "        return 9\n",
        "    else: return 10\n",
        "    \n",
        "report = pd.DataFrame({'actual':y_oot,'predict':model_final.predict_proba(X_oot)[:,1]})\n",
        "report['rank'] = report['predict'].apply(lambda a : quantile_dev(a,cutoff))\n",
        "res = report.groupby(['rank'])['actual', 'predict'].agg([('mean',np.mean),('sum',np.sum), ('count','count')]).reset_index()\n",
        "    \n",
        "report = pd.DataFrame({'actual':y_test,'predict':model_final.predict_proba(X_test)[:,1]})\n",
        "report['rank'] = report['predict'].apply(lambda a : quantile_dev(a,cutoff))\n",
        "res = report.groupby(['rank'])['actual', 'predict'].agg([('mean',np.mean),('sum',np.sum), ('count','count')]).reset_index()\n",
        "    \n",
        "   "
      ],
      "execution_count": 28,
      "outputs": [
        {
          "output_type": "stream",
          "text": [
            "/usr/local/lib/python3.6/dist-packages/ipykernel_launcher.py:30: FutureWarning: Indexing with multiple keys (implicitly converted to a tuple of keys) will be deprecated, use a list instead.\n",
            "/usr/local/lib/python3.6/dist-packages/ipykernel_launcher.py:34: FutureWarning: Indexing with multiple keys (implicitly converted to a tuple of keys) will be deprecated, use a list instead.\n"
          ],
          "name": "stderr"
        }
      ]
    }
  ]
}