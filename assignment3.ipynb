{
 "cells": [
  {
   "cell_type": "markdown",
   "metadata": {},
   "source": [
    "# Project 3:  Melbourne Housing Project\n",
    "Using this data create a model (Linear Regression) to predict a house's value. We want to be able to understand what creates value in a house, as though we were a real estate developer. The project should follow the guideline as:"
   ]
  },
  {
   "cell_type": "markdown",
   "metadata": {},
   "source": [
    "## 1.\tExamine and explore data (visualization, interactions among features)"
   ]
  },
  {
   "cell_type": "code",
   "execution_count": 1,
   "metadata": {},
   "outputs": [],
   "source": [
    "# load libraries\n",
    "import pandas as pd\n",
    "pd.set_option(\"max_columns\", 50)\n",
    "import matplotlib.pyplot as plt\n",
    "import seaborn as sns\n",
    "import numpy as np\n",
    "import plotly.offline as py\n",
    "import plotly.graph_objs as go\n",
    "import plotly.tools as tls\n",
    "import plotly.figure_factory as ff"
   ]
  },
  {
   "cell_type": "code",
   "execution_count": 2,
   "metadata": {},
   "outputs": [
    {
     "name": "stdout",
     "output_type": "stream",
     "text": [
      "size of data: (34857, 21)\n",
      "columns names of data: Index(['Suburb', 'Address', 'Rooms', 'Type', 'Price', 'Method', 'SellerG',\n",
      "       'Date', 'Distance', 'Postcode', 'Bedroom2', 'Bathroom', 'Car',\n",
      "       'Landsize', 'BuildingArea', 'YearBuilt', 'CouncilArea', 'Lattitude',\n",
      "       'Longtitude', 'Regionname', 'Propertycount'],\n",
      "      dtype='object')\n"
     ]
    }
   ],
   "source": [
    "# Load data\n",
    "data = pd.read_csv(\"Melbourne_housing_FULL.csv\")\n",
    "#%% Basic Information\n",
    "#print(data.isnull().sum())\n",
    "print('size of data:',data.shape)\n",
    "print('columns names of data:',data.columns)"
   ]
  },
  {
   "cell_type": "code",
   "execution_count": 3,
   "metadata": {},
   "outputs": [
    {
     "name": "stdout",
     "output_type": "stream",
     "text": [
      "How many columns have null values: 14\n",
      "             \n",
      "Data types:\n",
      "             \n",
      "<class 'pandas.core.frame.DataFrame'>\n",
      "RangeIndex: 34857 entries, 0 to 34856\n",
      "Data columns (total 21 columns):\n",
      " #   Column         Non-Null Count  Dtype  \n",
      "---  ------         --------------  -----  \n",
      " 0   Suburb         34857 non-null  object \n",
      " 1   Address        34857 non-null  object \n",
      " 2   Rooms          34857 non-null  int64  \n",
      " 3   Type           34857 non-null  object \n",
      " 4   Price          27247 non-null  float64\n",
      " 5   Method         34857 non-null  object \n",
      " 6   SellerG        34857 non-null  object \n",
      " 7   Date           34857 non-null  object \n",
      " 8   Distance       34856 non-null  float64\n",
      " 9   Postcode       34856 non-null  float64\n",
      " 10  Bedroom2       26640 non-null  float64\n",
      " 11  Bathroom       26631 non-null  float64\n",
      " 12  Car            26129 non-null  float64\n",
      " 13  Landsize       23047 non-null  float64\n",
      " 14  BuildingArea   13742 non-null  float64\n",
      " 15  YearBuilt      15551 non-null  float64\n",
      " 16  CouncilArea    34854 non-null  object \n",
      " 17  Lattitude      26881 non-null  float64\n",
      " 18  Longtitude     26881 non-null  float64\n",
      " 19  Regionname     34854 non-null  object \n",
      " 20  Propertycount  34854 non-null  float64\n",
      "dtypes: float64(12), int64(1), object(8)\n",
      "memory usage: 5.6+ MB\n",
      "None\n"
     ]
    }
   ],
   "source": [
    "## B. Describing the data & visualizations\n",
    "\n",
    "# Check null and data type\n",
    "#%% Which variable has null?\n",
    "#print(data.isnull().sum() > 0)\n",
    "print('How many columns have null values:',len(data.columns[data.isnull().sum() > 0]))\n",
    "#null_vars = data.columns[data.isnull().sum() > 0]\n",
    "#data.info()\n",
    "print('             ')\n",
    "print('Data types:')\n",
    "print('             ')\n",
    "print(data.info())"
   ]
  },
  {
   "cell_type": "code",
   "execution_count": 4,
   "metadata": {},
   "outputs": [],
   "source": [
    " # Removed null value in Price (target variable)\n",
    "data = data[~data['Price'].isnull()]"
   ]
  },
  {
   "cell_type": "code",
   "execution_count": 5,
   "metadata": {},
   "outputs": [
    {
     "name": "stdout",
     "output_type": "stream",
     "text": [
      "How many columns have null values: 13\n",
      "             \n",
      "Data types:\n",
      "             \n",
      "<class 'pandas.core.frame.DataFrame'>\n",
      "Int64Index: 27247 entries, 1 to 34856\n",
      "Data columns (total 21 columns):\n",
      " #   Column         Non-Null Count  Dtype  \n",
      "---  ------         --------------  -----  \n",
      " 0   Suburb         27247 non-null  object \n",
      " 1   Address        27247 non-null  object \n",
      " 2   Rooms          27247 non-null  int64  \n",
      " 3   Type           27247 non-null  object \n",
      " 4   Price          27247 non-null  float64\n",
      " 5   Method         27247 non-null  object \n",
      " 6   SellerG        27247 non-null  object \n",
      " 7   Date           27247 non-null  object \n",
      " 8   Distance       27246 non-null  float64\n",
      " 9   Postcode       27246 non-null  float64\n",
      " 10  Bedroom2       20806 non-null  float64\n",
      " 11  Bathroom       20800 non-null  float64\n",
      " 12  Car            20423 non-null  float64\n",
      " 13  Landsize       17982 non-null  float64\n",
      " 14  BuildingArea   10656 non-null  float64\n",
      " 15  YearBuilt      12084 non-null  float64\n",
      " 16  CouncilArea    27244 non-null  object \n",
      " 17  Lattitude      20993 non-null  float64\n",
      " 18  Longtitude     20993 non-null  float64\n",
      " 19  Regionname     27244 non-null  object \n",
      " 20  Propertycount  27244 non-null  float64\n",
      "dtypes: float64(12), int64(1), object(8)\n",
      "memory usage: 4.6+ MB\n",
      "None\n"
     ]
    }
   ],
   "source": [
    "# Check null and data type\n",
    "#%% Which variable has null?\n",
    "#print(data.isnull().sum() > 0)\n",
    "print('How many columns have null values:',len(data.columns[data.isnull().sum() > 0]))\n",
    "#null_vars = data.columns[data.isnull().sum() > 0]\n",
    "#data.info()\n",
    "print('             ')\n",
    "print('Data types:')\n",
    "print('             ')\n",
    "print(data.info())"
   ]
  },
  {
   "cell_type": "code",
   "execution_count": 6,
   "metadata": {},
   "outputs": [
    {
     "name": "stdout",
     "output_type": "stream",
     "text": [
      "How many duplicated row:  0\n"
     ]
    }
   ],
   "source": [
    "# Check for duplicates\n",
    "print('How many duplicated row: ',data[data.duplicated(keep=False)].shape[0])"
   ]
  },
  {
   "cell_type": "code",
   "execution_count": 7,
   "metadata": {},
   "outputs": [
    {
     "data": {
      "text/html": [
       "<div>\n",
       "<style scoped>\n",
       "    .dataframe tbody tr th:only-of-type {\n",
       "        vertical-align: middle;\n",
       "    }\n",
       "\n",
       "    .dataframe tbody tr th {\n",
       "        vertical-align: top;\n",
       "    }\n",
       "\n",
       "    .dataframe thead th {\n",
       "        text-align: right;\n",
       "    }\n",
       "</style>\n",
       "<table border=\"1\" class=\"dataframe\">\n",
       "  <thead>\n",
       "    <tr style=\"text-align: right;\">\n",
       "      <th></th>\n",
       "      <th>Suburb</th>\n",
       "      <th>Address</th>\n",
       "      <th>Rooms</th>\n",
       "      <th>Type</th>\n",
       "      <th>Price</th>\n",
       "      <th>Method</th>\n",
       "      <th>SellerG</th>\n",
       "      <th>Date</th>\n",
       "      <th>Distance</th>\n",
       "      <th>Postcode</th>\n",
       "      <th>Bedroom2</th>\n",
       "      <th>Bathroom</th>\n",
       "      <th>Car</th>\n",
       "      <th>Landsize</th>\n",
       "      <th>BuildingArea</th>\n",
       "      <th>YearBuilt</th>\n",
       "      <th>CouncilArea</th>\n",
       "      <th>Lattitude</th>\n",
       "      <th>Longtitude</th>\n",
       "      <th>Regionname</th>\n",
       "      <th>Propertycount</th>\n",
       "    </tr>\n",
       "  </thead>\n",
       "  <tbody>\n",
       "    <tr>\n",
       "      <th>count</th>\n",
       "      <td>27247</td>\n",
       "      <td>27247</td>\n",
       "      <td>27247.000000</td>\n",
       "      <td>27247</td>\n",
       "      <td>2.724700e+04</td>\n",
       "      <td>27247</td>\n",
       "      <td>27247</td>\n",
       "      <td>27247</td>\n",
       "      <td>27246.000000</td>\n",
       "      <td>27246.000000</td>\n",
       "      <td>20806.000000</td>\n",
       "      <td>20800.000000</td>\n",
       "      <td>20423.000000</td>\n",
       "      <td>17982.000000</td>\n",
       "      <td>10656.000000</td>\n",
       "      <td>12084.000000</td>\n",
       "      <td>27244</td>\n",
       "      <td>20993.000000</td>\n",
       "      <td>20993.000000</td>\n",
       "      <td>27244</td>\n",
       "      <td>27244.000000</td>\n",
       "    </tr>\n",
       "    <tr>\n",
       "      <th>unique</th>\n",
       "      <td>345</td>\n",
       "      <td>26751</td>\n",
       "      <td>NaN</td>\n",
       "      <td>3</td>\n",
       "      <td>NaN</td>\n",
       "      <td>5</td>\n",
       "      <td>349</td>\n",
       "      <td>78</td>\n",
       "      <td>NaN</td>\n",
       "      <td>NaN</td>\n",
       "      <td>NaN</td>\n",
       "      <td>NaN</td>\n",
       "      <td>NaN</td>\n",
       "      <td>NaN</td>\n",
       "      <td>NaN</td>\n",
       "      <td>NaN</td>\n",
       "      <td>33</td>\n",
       "      <td>NaN</td>\n",
       "      <td>NaN</td>\n",
       "      <td>8</td>\n",
       "      <td>NaN</td>\n",
       "    </tr>\n",
       "    <tr>\n",
       "      <th>top</th>\n",
       "      <td>Reservoir</td>\n",
       "      <td>5 Charles St</td>\n",
       "      <td>NaN</td>\n",
       "      <td>h</td>\n",
       "      <td>NaN</td>\n",
       "      <td>S</td>\n",
       "      <td>Nelson</td>\n",
       "      <td>28/10/2017</td>\n",
       "      <td>NaN</td>\n",
       "      <td>NaN</td>\n",
       "      <td>NaN</td>\n",
       "      <td>NaN</td>\n",
       "      <td>NaN</td>\n",
       "      <td>NaN</td>\n",
       "      <td>NaN</td>\n",
       "      <td>NaN</td>\n",
       "      <td>Boroondara City Council</td>\n",
       "      <td>NaN</td>\n",
       "      <td>NaN</td>\n",
       "      <td>Southern Metropolitan</td>\n",
       "      <td>NaN</td>\n",
       "    </tr>\n",
       "    <tr>\n",
       "      <th>freq</th>\n",
       "      <td>727</td>\n",
       "      <td>4</td>\n",
       "      <td>NaN</td>\n",
       "      <td>18472</td>\n",
       "      <td>NaN</td>\n",
       "      <td>17515</td>\n",
       "      <td>2735</td>\n",
       "      <td>879</td>\n",
       "      <td>NaN</td>\n",
       "      <td>NaN</td>\n",
       "      <td>NaN</td>\n",
       "      <td>NaN</td>\n",
       "      <td>NaN</td>\n",
       "      <td>NaN</td>\n",
       "      <td>NaN</td>\n",
       "      <td>NaN</td>\n",
       "      <td>2520</td>\n",
       "      <td>NaN</td>\n",
       "      <td>NaN</td>\n",
       "      <td>8524</td>\n",
       "      <td>NaN</td>\n",
       "    </tr>\n",
       "    <tr>\n",
       "      <th>mean</th>\n",
       "      <td>NaN</td>\n",
       "      <td>NaN</td>\n",
       "      <td>2.992293</td>\n",
       "      <td>NaN</td>\n",
       "      <td>1.050173e+06</td>\n",
       "      <td>NaN</td>\n",
       "      <td>NaN</td>\n",
       "      <td>NaN</td>\n",
       "      <td>11.280276</td>\n",
       "      <td>3113.796080</td>\n",
       "      <td>3.046237</td>\n",
       "      <td>1.591683</td>\n",
       "      <td>1.715370</td>\n",
       "      <td>593.488933</td>\n",
       "      <td>156.834586</td>\n",
       "      <td>1966.609153</td>\n",
       "      <td>NaN</td>\n",
       "      <td>-37.806963</td>\n",
       "      <td>144.996711</td>\n",
       "      <td>NaN</td>\n",
       "      <td>7566.781089</td>\n",
       "    </tr>\n",
       "    <tr>\n",
       "      <th>std</th>\n",
       "      <td>NaN</td>\n",
       "      <td>NaN</td>\n",
       "      <td>0.954795</td>\n",
       "      <td>NaN</td>\n",
       "      <td>6.414671e+05</td>\n",
       "      <td>NaN</td>\n",
       "      <td>NaN</td>\n",
       "      <td>NaN</td>\n",
       "      <td>6.787469</td>\n",
       "      <td>111.139676</td>\n",
       "      <td>0.955122</td>\n",
       "      <td>0.700880</td>\n",
       "      <td>0.994216</td>\n",
       "      <td>3757.266429</td>\n",
       "      <td>449.222791</td>\n",
       "      <td>36.762373</td>\n",
       "      <td>NaN</td>\n",
       "      <td>0.091619</td>\n",
       "      <td>0.120680</td>\n",
       "      <td>NaN</td>\n",
       "      <td>4492.382418</td>\n",
       "    </tr>\n",
       "    <tr>\n",
       "      <th>min</th>\n",
       "      <td>NaN</td>\n",
       "      <td>NaN</td>\n",
       "      <td>1.000000</td>\n",
       "      <td>NaN</td>\n",
       "      <td>8.500000e+04</td>\n",
       "      <td>NaN</td>\n",
       "      <td>NaN</td>\n",
       "      <td>NaN</td>\n",
       "      <td>0.000000</td>\n",
       "      <td>3000.000000</td>\n",
       "      <td>0.000000</td>\n",
       "      <td>0.000000</td>\n",
       "      <td>0.000000</td>\n",
       "      <td>0.000000</td>\n",
       "      <td>0.000000</td>\n",
       "      <td>1196.000000</td>\n",
       "      <td>NaN</td>\n",
       "      <td>-38.190430</td>\n",
       "      <td>144.423790</td>\n",
       "      <td>NaN</td>\n",
       "      <td>83.000000</td>\n",
       "    </tr>\n",
       "    <tr>\n",
       "      <th>25%</th>\n",
       "      <td>NaN</td>\n",
       "      <td>NaN</td>\n",
       "      <td>2.000000</td>\n",
       "      <td>NaN</td>\n",
       "      <td>6.350000e+05</td>\n",
       "      <td>NaN</td>\n",
       "      <td>NaN</td>\n",
       "      <td>NaN</td>\n",
       "      <td>6.400000</td>\n",
       "      <td>3046.000000</td>\n",
       "      <td>2.000000</td>\n",
       "      <td>1.000000</td>\n",
       "      <td>1.000000</td>\n",
       "      <td>219.000000</td>\n",
       "      <td>100.000000</td>\n",
       "      <td>1950.000000</td>\n",
       "      <td>NaN</td>\n",
       "      <td>-37.860900</td>\n",
       "      <td>144.925300</td>\n",
       "      <td>NaN</td>\n",
       "      <td>4294.000000</td>\n",
       "    </tr>\n",
       "    <tr>\n",
       "      <th>50%</th>\n",
       "      <td>NaN</td>\n",
       "      <td>NaN</td>\n",
       "      <td>3.000000</td>\n",
       "      <td>NaN</td>\n",
       "      <td>8.700000e+05</td>\n",
       "      <td>NaN</td>\n",
       "      <td>NaN</td>\n",
       "      <td>NaN</td>\n",
       "      <td>10.500000</td>\n",
       "      <td>3088.000000</td>\n",
       "      <td>3.000000</td>\n",
       "      <td>1.000000</td>\n",
       "      <td>2.000000</td>\n",
       "      <td>512.000000</td>\n",
       "      <td>133.000000</td>\n",
       "      <td>1970.000000</td>\n",
       "      <td>NaN</td>\n",
       "      <td>-37.800460</td>\n",
       "      <td>145.003200</td>\n",
       "      <td>NaN</td>\n",
       "      <td>6567.000000</td>\n",
       "    </tr>\n",
       "    <tr>\n",
       "      <th>75%</th>\n",
       "      <td>NaN</td>\n",
       "      <td>NaN</td>\n",
       "      <td>4.000000</td>\n",
       "      <td>NaN</td>\n",
       "      <td>1.295000e+06</td>\n",
       "      <td>NaN</td>\n",
       "      <td>NaN</td>\n",
       "      <td>NaN</td>\n",
       "      <td>14.000000</td>\n",
       "      <td>3153.000000</td>\n",
       "      <td>4.000000</td>\n",
       "      <td>2.000000</td>\n",
       "      <td>2.000000</td>\n",
       "      <td>664.000000</td>\n",
       "      <td>182.000000</td>\n",
       "      <td>2000.000000</td>\n",
       "      <td>NaN</td>\n",
       "      <td>-37.748970</td>\n",
       "      <td>145.068770</td>\n",
       "      <td>NaN</td>\n",
       "      <td>10412.000000</td>\n",
       "    </tr>\n",
       "    <tr>\n",
       "      <th>max</th>\n",
       "      <td>NaN</td>\n",
       "      <td>NaN</td>\n",
       "      <td>16.000000</td>\n",
       "      <td>NaN</td>\n",
       "      <td>1.120000e+07</td>\n",
       "      <td>NaN</td>\n",
       "      <td>NaN</td>\n",
       "      <td>NaN</td>\n",
       "      <td>48.100000</td>\n",
       "      <td>3978.000000</td>\n",
       "      <td>20.000000</td>\n",
       "      <td>9.000000</td>\n",
       "      <td>18.000000</td>\n",
       "      <td>433014.000000</td>\n",
       "      <td>44515.000000</td>\n",
       "      <td>2019.000000</td>\n",
       "      <td>NaN</td>\n",
       "      <td>-37.397800</td>\n",
       "      <td>145.526350</td>\n",
       "      <td>NaN</td>\n",
       "      <td>21650.000000</td>\n",
       "    </tr>\n",
       "  </tbody>\n",
       "</table>\n",
       "</div>"
      ],
      "text/plain": [
       "           Suburb       Address         Rooms   Type         Price Method  \\\n",
       "count       27247         27247  27247.000000  27247  2.724700e+04  27247   \n",
       "unique        345         26751           NaN      3           NaN      5   \n",
       "top     Reservoir  5 Charles St           NaN      h           NaN      S   \n",
       "freq          727             4           NaN  18472           NaN  17515   \n",
       "mean          NaN           NaN      2.992293    NaN  1.050173e+06    NaN   \n",
       "std           NaN           NaN      0.954795    NaN  6.414671e+05    NaN   \n",
       "min           NaN           NaN      1.000000    NaN  8.500000e+04    NaN   \n",
       "25%           NaN           NaN      2.000000    NaN  6.350000e+05    NaN   \n",
       "50%           NaN           NaN      3.000000    NaN  8.700000e+05    NaN   \n",
       "75%           NaN           NaN      4.000000    NaN  1.295000e+06    NaN   \n",
       "max           NaN           NaN     16.000000    NaN  1.120000e+07    NaN   \n",
       "\n",
       "       SellerG        Date      Distance      Postcode      Bedroom2  \\\n",
       "count    27247       27247  27246.000000  27246.000000  20806.000000   \n",
       "unique     349          78           NaN           NaN           NaN   \n",
       "top     Nelson  28/10/2017           NaN           NaN           NaN   \n",
       "freq      2735         879           NaN           NaN           NaN   \n",
       "mean       NaN         NaN     11.280276   3113.796080      3.046237   \n",
       "std        NaN         NaN      6.787469    111.139676      0.955122   \n",
       "min        NaN         NaN      0.000000   3000.000000      0.000000   \n",
       "25%        NaN         NaN      6.400000   3046.000000      2.000000   \n",
       "50%        NaN         NaN     10.500000   3088.000000      3.000000   \n",
       "75%        NaN         NaN     14.000000   3153.000000      4.000000   \n",
       "max        NaN         NaN     48.100000   3978.000000     20.000000   \n",
       "\n",
       "            Bathroom           Car       Landsize  BuildingArea     YearBuilt  \\\n",
       "count   20800.000000  20423.000000   17982.000000  10656.000000  12084.000000   \n",
       "unique           NaN           NaN            NaN           NaN           NaN   \n",
       "top              NaN           NaN            NaN           NaN           NaN   \n",
       "freq             NaN           NaN            NaN           NaN           NaN   \n",
       "mean        1.591683      1.715370     593.488933    156.834586   1966.609153   \n",
       "std         0.700880      0.994216    3757.266429    449.222791     36.762373   \n",
       "min         0.000000      0.000000       0.000000      0.000000   1196.000000   \n",
       "25%         1.000000      1.000000     219.000000    100.000000   1950.000000   \n",
       "50%         1.000000      2.000000     512.000000    133.000000   1970.000000   \n",
       "75%         2.000000      2.000000     664.000000    182.000000   2000.000000   \n",
       "max         9.000000     18.000000  433014.000000  44515.000000   2019.000000   \n",
       "\n",
       "                    CouncilArea     Lattitude    Longtitude  \\\n",
       "count                     27244  20993.000000  20993.000000   \n",
       "unique                       33           NaN           NaN   \n",
       "top     Boroondara City Council           NaN           NaN   \n",
       "freq                       2520           NaN           NaN   \n",
       "mean                        NaN    -37.806963    144.996711   \n",
       "std                         NaN      0.091619      0.120680   \n",
       "min                         NaN    -38.190430    144.423790   \n",
       "25%                         NaN    -37.860900    144.925300   \n",
       "50%                         NaN    -37.800460    145.003200   \n",
       "75%                         NaN    -37.748970    145.068770   \n",
       "max                         NaN    -37.397800    145.526350   \n",
       "\n",
       "                   Regionname  Propertycount  \n",
       "count                   27244   27244.000000  \n",
       "unique                      8            NaN  \n",
       "top     Southern Metropolitan            NaN  \n",
       "freq                     8524            NaN  \n",
       "mean                      NaN    7566.781089  \n",
       "std                       NaN    4492.382418  \n",
       "min                       NaN      83.000000  \n",
       "25%                       NaN    4294.000000  \n",
       "50%                       NaN    6567.000000  \n",
       "75%                       NaN   10412.000000  \n",
       "max                       NaN   21650.000000  "
      ]
     },
     "execution_count": 7,
     "metadata": {},
     "output_type": "execute_result"
    }
   ],
   "source": [
    "# Quick look at data: \n",
    "data.describe(include='all')"
   ]
  },
  {
   "cell_type": "code",
   "execution_count": 10,
   "metadata": {},
   "outputs": [
    {
     "name": "stdout",
     "output_type": "stream",
     "text": [
      "(27247, 21)\n",
      "Suburb            0.000000\n",
      "Address           0.000000\n",
      "Rooms             0.000000\n",
      "Type              0.000000\n",
      "Price             0.000000\n",
      "Method            0.000000\n",
      "SellerG           0.000000\n",
      "Date              0.000000\n",
      "Distance          0.003670\n",
      "Postcode          0.003670\n",
      "Bedroom2         23.639300\n",
      "Bathroom         23.661321\n",
      "Car              25.044959\n",
      "Landsize         34.003744\n",
      "BuildingArea     60.891107\n",
      "YearBuilt        55.650163\n",
      "CouncilArea       0.011010\n",
      "Lattitude        22.952986\n",
      "Longtitude       22.952986\n",
      "Regionname        0.011010\n",
      "Propertycount     0.011010\n",
      "dtype: float64\n"
     ]
    }
   ],
   "source": [
    "print(data.shape)\n",
    "print(data.isnull().sum()/data.shape[0]*100)"
   ]
  },
  {
   "cell_type": "code",
   "execution_count": 11,
   "metadata": {},
   "outputs": [],
   "source": [
    "# Drop catelogical features with unique value > 60\n",
    "\n",
    "data = data.drop(columns=['Suburb', \n",
    "                          'Address', \n",
    "                          'SellerG','Date','BuildingArea','YearBuilt'\n",
    "                        ])"
   ]
  },
  {
   "cell_type": "code",
   "execution_count": 13,
   "metadata": {},
   "outputs": [
    {
     "name": "stdout",
     "output_type": "stream",
     "text": [
      "(27247, 14)\n",
      "Rooms             0.000000\n",
      "Type              0.000000\n",
      "Price             0.000000\n",
      "Method            0.000000\n",
      "Distance          0.003670\n",
      "Postcode          0.003670\n",
      "Bedroom2         23.639300\n",
      "Bathroom         23.661321\n",
      "Car              25.044959\n",
      "CouncilArea       0.011010\n",
      "Lattitude        22.952986\n",
      "Longtitude       22.952986\n",
      "Regionname        0.011010\n",
      "Propertycount     0.011010\n",
      "dtype: float64\n"
     ]
    }
   ],
   "source": [
    "data = data.drop(columns=['Landsize'])\n",
    "print(data.shape)\n",
    "print(data.isnull().sum()/data.shape[0]*100)"
   ]
  },
  {
   "cell_type": "code",
   "execution_count": 14,
   "metadata": {},
   "outputs": [
    {
     "data": {
      "text/html": [
       "<div>\n",
       "<style scoped>\n",
       "    .dataframe tbody tr th:only-of-type {\n",
       "        vertical-align: middle;\n",
       "    }\n",
       "\n",
       "    .dataframe tbody tr th {\n",
       "        vertical-align: top;\n",
       "    }\n",
       "\n",
       "    .dataframe thead th {\n",
       "        text-align: right;\n",
       "    }\n",
       "</style>\n",
       "<table border=\"1\" class=\"dataframe\">\n",
       "  <thead>\n",
       "    <tr style=\"text-align: right;\">\n",
       "      <th></th>\n",
       "      <th>Rooms</th>\n",
       "      <th>Type</th>\n",
       "      <th>Price</th>\n",
       "      <th>Method</th>\n",
       "      <th>Distance</th>\n",
       "      <th>Postcode</th>\n",
       "      <th>Bedroom2</th>\n",
       "      <th>Bathroom</th>\n",
       "      <th>Car</th>\n",
       "      <th>CouncilArea</th>\n",
       "      <th>Lattitude</th>\n",
       "      <th>Longtitude</th>\n",
       "      <th>Regionname</th>\n",
       "      <th>Propertycount</th>\n",
       "    </tr>\n",
       "  </thead>\n",
       "  <tbody>\n",
       "    <tr>\n",
       "      <th>count</th>\n",
       "      <td>27247.000000</td>\n",
       "      <td>27247</td>\n",
       "      <td>2.724700e+04</td>\n",
       "      <td>27247</td>\n",
       "      <td>27246.000000</td>\n",
       "      <td>27246.000000</td>\n",
       "      <td>20806.000000</td>\n",
       "      <td>20800.000000</td>\n",
       "      <td>20423.000000</td>\n",
       "      <td>27244</td>\n",
       "      <td>20993.000000</td>\n",
       "      <td>20993.000000</td>\n",
       "      <td>27244</td>\n",
       "      <td>27244.000000</td>\n",
       "    </tr>\n",
       "    <tr>\n",
       "      <th>unique</th>\n",
       "      <td>NaN</td>\n",
       "      <td>3</td>\n",
       "      <td>NaN</td>\n",
       "      <td>5</td>\n",
       "      <td>NaN</td>\n",
       "      <td>NaN</td>\n",
       "      <td>NaN</td>\n",
       "      <td>NaN</td>\n",
       "      <td>NaN</td>\n",
       "      <td>33</td>\n",
       "      <td>NaN</td>\n",
       "      <td>NaN</td>\n",
       "      <td>8</td>\n",
       "      <td>NaN</td>\n",
       "    </tr>\n",
       "    <tr>\n",
       "      <th>top</th>\n",
       "      <td>NaN</td>\n",
       "      <td>h</td>\n",
       "      <td>NaN</td>\n",
       "      <td>S</td>\n",
       "      <td>NaN</td>\n",
       "      <td>NaN</td>\n",
       "      <td>NaN</td>\n",
       "      <td>NaN</td>\n",
       "      <td>NaN</td>\n",
       "      <td>Boroondara City Council</td>\n",
       "      <td>NaN</td>\n",
       "      <td>NaN</td>\n",
       "      <td>Southern Metropolitan</td>\n",
       "      <td>NaN</td>\n",
       "    </tr>\n",
       "    <tr>\n",
       "      <th>freq</th>\n",
       "      <td>NaN</td>\n",
       "      <td>18472</td>\n",
       "      <td>NaN</td>\n",
       "      <td>17515</td>\n",
       "      <td>NaN</td>\n",
       "      <td>NaN</td>\n",
       "      <td>NaN</td>\n",
       "      <td>NaN</td>\n",
       "      <td>NaN</td>\n",
       "      <td>2520</td>\n",
       "      <td>NaN</td>\n",
       "      <td>NaN</td>\n",
       "      <td>8524</td>\n",
       "      <td>NaN</td>\n",
       "    </tr>\n",
       "    <tr>\n",
       "      <th>mean</th>\n",
       "      <td>2.992293</td>\n",
       "      <td>NaN</td>\n",
       "      <td>1.050173e+06</td>\n",
       "      <td>NaN</td>\n",
       "      <td>11.280276</td>\n",
       "      <td>3113.796080</td>\n",
       "      <td>3.046237</td>\n",
       "      <td>1.591683</td>\n",
       "      <td>1.715370</td>\n",
       "      <td>NaN</td>\n",
       "      <td>-37.806963</td>\n",
       "      <td>144.996711</td>\n",
       "      <td>NaN</td>\n",
       "      <td>7566.781089</td>\n",
       "    </tr>\n",
       "    <tr>\n",
       "      <th>std</th>\n",
       "      <td>0.954795</td>\n",
       "      <td>NaN</td>\n",
       "      <td>6.414671e+05</td>\n",
       "      <td>NaN</td>\n",
       "      <td>6.787469</td>\n",
       "      <td>111.139676</td>\n",
       "      <td>0.955122</td>\n",
       "      <td>0.700880</td>\n",
       "      <td>0.994216</td>\n",
       "      <td>NaN</td>\n",
       "      <td>0.091619</td>\n",
       "      <td>0.120680</td>\n",
       "      <td>NaN</td>\n",
       "      <td>4492.382418</td>\n",
       "    </tr>\n",
       "    <tr>\n",
       "      <th>min</th>\n",
       "      <td>1.000000</td>\n",
       "      <td>NaN</td>\n",
       "      <td>8.500000e+04</td>\n",
       "      <td>NaN</td>\n",
       "      <td>0.000000</td>\n",
       "      <td>3000.000000</td>\n",
       "      <td>0.000000</td>\n",
       "      <td>0.000000</td>\n",
       "      <td>0.000000</td>\n",
       "      <td>NaN</td>\n",
       "      <td>-38.190430</td>\n",
       "      <td>144.423790</td>\n",
       "      <td>NaN</td>\n",
       "      <td>83.000000</td>\n",
       "    </tr>\n",
       "    <tr>\n",
       "      <th>25%</th>\n",
       "      <td>2.000000</td>\n",
       "      <td>NaN</td>\n",
       "      <td>6.350000e+05</td>\n",
       "      <td>NaN</td>\n",
       "      <td>6.400000</td>\n",
       "      <td>3046.000000</td>\n",
       "      <td>2.000000</td>\n",
       "      <td>1.000000</td>\n",
       "      <td>1.000000</td>\n",
       "      <td>NaN</td>\n",
       "      <td>-37.860900</td>\n",
       "      <td>144.925300</td>\n",
       "      <td>NaN</td>\n",
       "      <td>4294.000000</td>\n",
       "    </tr>\n",
       "    <tr>\n",
       "      <th>50%</th>\n",
       "      <td>3.000000</td>\n",
       "      <td>NaN</td>\n",
       "      <td>8.700000e+05</td>\n",
       "      <td>NaN</td>\n",
       "      <td>10.500000</td>\n",
       "      <td>3088.000000</td>\n",
       "      <td>3.000000</td>\n",
       "      <td>1.000000</td>\n",
       "      <td>2.000000</td>\n",
       "      <td>NaN</td>\n",
       "      <td>-37.800460</td>\n",
       "      <td>145.003200</td>\n",
       "      <td>NaN</td>\n",
       "      <td>6567.000000</td>\n",
       "    </tr>\n",
       "    <tr>\n",
       "      <th>75%</th>\n",
       "      <td>4.000000</td>\n",
       "      <td>NaN</td>\n",
       "      <td>1.295000e+06</td>\n",
       "      <td>NaN</td>\n",
       "      <td>14.000000</td>\n",
       "      <td>3153.000000</td>\n",
       "      <td>4.000000</td>\n",
       "      <td>2.000000</td>\n",
       "      <td>2.000000</td>\n",
       "      <td>NaN</td>\n",
       "      <td>-37.748970</td>\n",
       "      <td>145.068770</td>\n",
       "      <td>NaN</td>\n",
       "      <td>10412.000000</td>\n",
       "    </tr>\n",
       "    <tr>\n",
       "      <th>max</th>\n",
       "      <td>16.000000</td>\n",
       "      <td>NaN</td>\n",
       "      <td>1.120000e+07</td>\n",
       "      <td>NaN</td>\n",
       "      <td>48.100000</td>\n",
       "      <td>3978.000000</td>\n",
       "      <td>20.000000</td>\n",
       "      <td>9.000000</td>\n",
       "      <td>18.000000</td>\n",
       "      <td>NaN</td>\n",
       "      <td>-37.397800</td>\n",
       "      <td>145.526350</td>\n",
       "      <td>NaN</td>\n",
       "      <td>21650.000000</td>\n",
       "    </tr>\n",
       "  </tbody>\n",
       "</table>\n",
       "</div>"
      ],
      "text/plain": [
       "               Rooms   Type         Price Method      Distance      Postcode  \\\n",
       "count   27247.000000  27247  2.724700e+04  27247  27246.000000  27246.000000   \n",
       "unique           NaN      3           NaN      5           NaN           NaN   \n",
       "top              NaN      h           NaN      S           NaN           NaN   \n",
       "freq             NaN  18472           NaN  17515           NaN           NaN   \n",
       "mean        2.992293    NaN  1.050173e+06    NaN     11.280276   3113.796080   \n",
       "std         0.954795    NaN  6.414671e+05    NaN      6.787469    111.139676   \n",
       "min         1.000000    NaN  8.500000e+04    NaN      0.000000   3000.000000   \n",
       "25%         2.000000    NaN  6.350000e+05    NaN      6.400000   3046.000000   \n",
       "50%         3.000000    NaN  8.700000e+05    NaN     10.500000   3088.000000   \n",
       "75%         4.000000    NaN  1.295000e+06    NaN     14.000000   3153.000000   \n",
       "max        16.000000    NaN  1.120000e+07    NaN     48.100000   3978.000000   \n",
       "\n",
       "            Bedroom2      Bathroom           Car              CouncilArea  \\\n",
       "count   20806.000000  20800.000000  20423.000000                    27244   \n",
       "unique           NaN           NaN           NaN                       33   \n",
       "top              NaN           NaN           NaN  Boroondara City Council   \n",
       "freq             NaN           NaN           NaN                     2520   \n",
       "mean        3.046237      1.591683      1.715370                      NaN   \n",
       "std         0.955122      0.700880      0.994216                      NaN   \n",
       "min         0.000000      0.000000      0.000000                      NaN   \n",
       "25%         2.000000      1.000000      1.000000                      NaN   \n",
       "50%         3.000000      1.000000      2.000000                      NaN   \n",
       "75%         4.000000      2.000000      2.000000                      NaN   \n",
       "max        20.000000      9.000000     18.000000                      NaN   \n",
       "\n",
       "           Lattitude    Longtitude             Regionname  Propertycount  \n",
       "count   20993.000000  20993.000000                  27244   27244.000000  \n",
       "unique           NaN           NaN                      8            NaN  \n",
       "top              NaN           NaN  Southern Metropolitan            NaN  \n",
       "freq             NaN           NaN                   8524            NaN  \n",
       "mean      -37.806963    144.996711                    NaN    7566.781089  \n",
       "std         0.091619      0.120680                    NaN    4492.382418  \n",
       "min       -38.190430    144.423790                    NaN      83.000000  \n",
       "25%       -37.860900    144.925300                    NaN    4294.000000  \n",
       "50%       -37.800460    145.003200                    NaN    6567.000000  \n",
       "75%       -37.748970    145.068770                    NaN   10412.000000  \n",
       "max       -37.397800    145.526350                    NaN   21650.000000  "
      ]
     },
     "execution_count": 14,
     "metadata": {},
     "output_type": "execute_result"
    }
   ],
   "source": [
    "# Quick look at data: \n",
    "data.describe(include='all')"
   ]
  },
  {
   "cell_type": "code",
   "execution_count": 15,
   "metadata": {},
   "outputs": [
    {
     "name": "stdout",
     "output_type": "stream",
     "text": [
      "The % distribution of Type features is: \n",
      "h    68.0\n",
      "u    22.0\n",
      "t    11.0\n",
      "Name: Type, dtype: float64\n"
     ]
    },
    {
     "name": "stderr",
     "output_type": "stream",
     "text": [
      "C:\\Users\\Lenovo ThinkPad\\Anaconda3\\lib\\site-packages\\seaborn\\_decorators.py:43: FutureWarning:\n",
      "\n",
      "Pass the following variable as a keyword arg: x. From version 0.12, the only valid positional argument will be `data`, and passing other arguments without an explicit keyword will result in an error or misinterpretation.\n",
      "\n"
     ]
    },
    {
     "data": {
      "image/png": "[encoded data removed]",
      "text/plain": [
       "<Figure size 720x504 with 1 Axes>"
      ]
     },
     "metadata": {
      "needs_background": "light"
     },
     "output_type": "display_data"
    }
   ],
   "source": [
    "print(\"The % distribution of Type features is: \")\n",
    "print(round(data['Type'].value_counts(normalize=True),2)*100)\n",
    "\n",
    "plt.figure(figsize=(10,7))\n",
    "\n",
    "g = sns.countplot(data[\"Type\"])\n",
    "g.set_title(\"Type Distribution\", fontsize=22)\n",
    "g.set_ylabel('Count', fontsize=18)\n",
    "g.set_xlabel('Type', fontsize=18)\n",
    "\n",
    "plt.show()"
   ]
  },
  {
   "cell_type": "code",
   "execution_count": 16,
   "metadata": {},
   "outputs": [
    {
     "name": "stdout",
     "output_type": "stream",
     "text": [
      "The % distribution of Method features is: \n",
      "S     64.0\n",
      "SP    13.0\n",
      "PI    12.0\n",
      "VB    10.0\n",
      "SA     1.0\n",
      "Name: Method, dtype: float64\n"
     ]
    },
    {
     "name": "stderr",
     "output_type": "stream",
     "text": [
      "C:\\Users\\Lenovo ThinkPad\\Anaconda3\\lib\\site-packages\\seaborn\\_decorators.py:43: FutureWarning:\n",
      "\n",
      "Pass the following variable as a keyword arg: x. From version 0.12, the only valid positional argument will be `data`, and passing other arguments without an explicit keyword will result in an error or misinterpretation.\n",
      "\n"
     ]
    },
    {
     "data": {
      "image/png": "[encoded data removed]",
      "text/plain": [
       "<Figure size 720x504 with 1 Axes>"
      ]
     },
     "metadata": {
      "needs_background": "light"
     },
     "output_type": "display_data"
    }
   ],
   "source": [
    "print(\"The % distribution of Method features is: \")\n",
    "print(round(data['Method'].value_counts(normalize=True),2)*100)\n",
    "\n",
    "plt.figure(figsize=(10,7))\n",
    "\n",
    "g = sns.countplot(data[\"Method\"])\n",
    "g.set_title(\"Method Distribution\", fontsize=22)\n",
    "g.set_ylabel('Count', fontsize=18)\n",
    "g.set_xlabel('Method', fontsize=18)\n",
    "\n",
    "plt.show()"
   ]
  },
  {
   "cell_type": "code",
   "execution_count": 17,
   "metadata": {},
   "outputs": [
    {
     "name": "stdout",
     "output_type": "stream",
     "text": [
      "The % distribution of CouncilArea features is: \n",
      "Boroondara City Council           9.0\n",
      "Darebin City Council              9.0\n",
      "Moreland City Council             7.0\n",
      "Glen Eira City Council            6.0\n",
      "Moonee Valley City Council        6.0\n",
      "Melbourne City Council            6.0\n",
      "Banyule City Council              5.0\n",
      "Brimbank City Council             5.0\n",
      "Bayside City Council              5.0\n",
      "Maribyrnong City Council          4.0\n",
      "Hume City Council                 4.0\n",
      "Monash City Council               4.0\n",
      "Port Phillip City Council         3.0\n",
      "Yarra City Council                3.0\n",
      "Stonnington City Council          3.0\n",
      "Manningham City Council           3.0\n",
      "Hobsons Bay City Council          3.0\n",
      "Kingston City Council             3.0\n",
      "Whittlesea City Council           3.0\n",
      "Wyndham City Council              2.0\n",
      "Whitehorse City Council           2.0\n",
      "Maroondah City Council            1.0\n",
      "Knox City Council                 1.0\n",
      "Melton City Council               1.0\n",
      "Frankston City Council            1.0\n",
      "Greater Dandenong City Council    1.0\n",
      "Casey City Council                1.0\n",
      "Nillumbik Shire Council           0.0\n",
      "Yarra Ranges Shire Council        0.0\n",
      "Macedon Ranges Shire Council      0.0\n",
      "Cardinia Shire Council            0.0\n",
      "Mitchell Shire Council            0.0\n",
      "Moorabool Shire Council           0.0\n",
      "Name: CouncilArea, dtype: float64\n"
     ]
    },
    {
     "name": "stderr",
     "output_type": "stream",
     "text": [
      "C:\\Users\\Lenovo ThinkPad\\Anaconda3\\lib\\site-packages\\seaborn\\_decorators.py:43: FutureWarning:\n",
      "\n",
      "Pass the following variable as a keyword arg: x. From version 0.12, the only valid positional argument will be `data`, and passing other arguments without an explicit keyword will result in an error or misinterpretation.\n",
      "\n"
     ]
    },
    {
     "data": {
      "image/png": "[encoded data removed]",
      "text/plain": [
       "<Figure size 720x504 with 1 Axes>"
      ]
     },
     "metadata": {
      "needs_background": "light"
     },
     "output_type": "display_data"
    }
   ],
   "source": [
    "print(\"The % distribution of CouncilArea features is: \")\n",
    "print(round(data['CouncilArea'].value_counts(normalize=True),2)*100)\n",
    "\n",
    "plt.figure(figsize=(10,7))\n",
    "\n",
    "g = sns.countplot(data[\"CouncilArea\"])\n",
    "g.set_title(\"CouncilArea Distribution\", fontsize=22)\n",
    "g.set_ylabel('Count', fontsize=18)\n",
    "g.set_xlabel('CouncilArea', fontsize=18)\n",
    "\n",
    "plt.show()\n"
   ]
  },
  {
   "cell_type": "code",
   "execution_count": 18,
   "metadata": {},
   "outputs": [
    {
     "name": "stdout",
     "output_type": "stream",
     "text": [
      "The % distribution of Regionname features is: \n",
      "Southern Metropolitan         31.0\n",
      "Northern Metropolitan         29.0\n",
      "Western Metropolitan          21.0\n",
      "Eastern Metropolitan          12.0\n",
      "South-Eastern Metropolitan     5.0\n",
      "Eastern Victoria               1.0\n",
      "Northern Victoria              1.0\n",
      "Western Victoria               0.0\n",
      "Name: Regionname, dtype: float64\n"
     ]
    },
    {
     "name": "stderr",
     "output_type": "stream",
     "text": [
      "C:\\Users\\Lenovo ThinkPad\\Anaconda3\\lib\\site-packages\\seaborn\\_decorators.py:43: FutureWarning:\n",
      "\n",
      "Pass the following variable as a keyword arg: x. From version 0.12, the only valid positional argument will be `data`, and passing other arguments without an explicit keyword will result in an error or misinterpretation.\n",
      "\n"
     ]
    },
    {
     "data": {
      "image/png": "[encoded data removed]",
      "text/plain": [
       "<Figure size 720x504 with 1 Axes>"
      ]
     },
     "metadata": {
      "needs_background": "light"
     },
     "output_type": "display_data"
    }
   ],
   "source": [
    "print(\"The % distribution of Regionname features is: \")\n",
    "print(round(data['Regionname'].value_counts(normalize=True),2)*100)\n",
    "\n",
    "plt.figure(figsize=(10,7))\n",
    "\n",
    "g = sns.countplot(data[\"Regionname\"])\n",
    "g.set_title(\"Regionname Distribution\", fontsize=22)\n",
    "g.set_ylabel('Count', fontsize=18)\n",
    "g.set_xlabel('Regionname', fontsize=18)\n",
    "\n",
    "plt.show()\n"
   ]
  },
  {
   "cell_type": "code",
   "execution_count": 19,
   "metadata": {},
   "outputs": [
    {
     "name": "stdout",
     "output_type": "stream",
     "text": [
      "num_var Index(['Rooms', 'Price', 'Distance', 'Postcode', 'Bedroom2', 'Bathroom', 'Car',\n",
      "       'Lattitude', 'Longtitude', 'Propertycount'],\n",
      "      dtype='object')\n",
      "cat_var Index(['Type', 'Method', 'CouncilArea', 'Regionname'], dtype='object')\n"
     ]
    }
   ],
   "source": [
    "num_var = data.columns[data.dtypes != 'O']\n",
    "cat_var = data.columns[data.dtypes == 'O']\n",
    "print('num_var',num_var)\n",
    "print('cat_var',cat_var)"
   ]
  },
  {
   "cell_type": "code",
   "execution_count": 20,
   "metadata": {},
   "outputs": [
    {
     "data": {
      "text/plain": [
       "<AxesSubplot:>"
      ]
     },
     "execution_count": 20,
     "metadata": {},
     "output_type": "execute_result"
    },
    {
     "data": {
      "image/png": "[encoded data removed]",
      "text/plain": [
       "<Figure size 432x288 with 1 Axes>"
      ]
     },
     "metadata": {
      "needs_background": "light"
     },
     "output_type": "display_data"
    }
   ],
   "source": [
    "# Price histogram\n",
    "data.Price.hist()"
   ]
  },
  {
   "cell_type": "code",
   "execution_count": 21,
   "metadata": {},
   "outputs": [
    {
     "name": "stdout",
     "output_type": "stream",
     "text": [
      "number of numerical vars: 10\n",
      "***\n",
      "Rooms : 0.465\n",
      "Price : 1.0\n",
      "Distance : -0.211\n",
      "Postcode : 0.045\n",
      "Bedroom2 : 0.43\n",
      "Bathroom : 0.43\n",
      "Car : 0.202\n",
      "Lattitude : -0.216\n",
      "Longtitude : 0.198\n",
      "Propertycount : -0.059\n"
     ]
    }
   ],
   "source": [
    "# numerical vars\n",
    "num_var = data.columns[data.dtypes != 'O']\n",
    "print('number of numerical vars:',len(num_var))\n",
    "print('***')\n",
    "def corr_cal(var_select) : \n",
    "# Calculate the correlation coefficient between the new variable and the target\n",
    "    corr = data['Price'].corr(data[var_select])\n",
    "    corr = np.round(corr,3)\n",
    "    return corr\n",
    "for c in num_var:\n",
    "           print(c,':',corr_cal(c))"
   ]
  },
  {
   "cell_type": "code",
   "execution_count": 22,
   "metadata": {},
   "outputs": [
    {
     "name": "stderr",
     "output_type": "stream",
     "text": [
      "C:\\Users\\Lenovo ThinkPad\\Anaconda3\\lib\\site-packages\\seaborn\\distributions.py:2551: FutureWarning:\n",
      "\n",
      "`distplot` is a deprecated function and will be removed in a future version. Please adapt your code to use either `displot` (a figure-level function with similar flexibility) or `histplot` (an axes-level function for histograms).\n",
      "\n"
     ]
    },
    {
     "data": {
      "image/png": "[encoded data removed]",
      "text/plain": [
       "<Figure size 432x288 with 1 Axes>"
      ]
     },
     "metadata": {
      "needs_background": "light"
     },
     "output_type": "display_data"
    },
    {
     "data": {
      "image/png": "[encoded data removed]",
      "text/plain": [
       "<Figure size 432x288 with 1 Axes>"
      ]
     },
     "metadata": {
      "needs_background": "light"
     },
     "output_type": "display_data"
    },
    {
     "data": {
      "image/png": "[encoded data removed]",
      "text/plain": [
       "<Figure size 432x288 with 1 Axes>"
      ]
     },
     "metadata": {
      "needs_background": "light"
     },
     "output_type": "display_data"
    },
    {
     "data": {
      "image/png": "[encoded data removed]",
      "text/plain": [
       "<Figure size 432x288 with 1 Axes>"
      ]
     },
     "metadata": {
      "needs_background": "light"
     },
     "output_type": "display_data"
    },
    {
     "data": {
      "image/png": "[encoded data removed]",
      "text/plain": [
       "<Figure size 432x288 with 1 Axes>"
      ]
     },
     "metadata": {
      "needs_background": "light"
     },
     "output_type": "display_data"
    },
    {
     "data": {
      "image/png": "[encoded data removed]",
      "text/plain": [
       "<Figure size 432x288 with 1 Axes>"
      ]
     },
     "metadata": {
      "needs_background": "light"
     },
     "output_type": "display_data"
    },
    {
     "data": {
      "image/png": "[encoded data removed]",
      "text/plain": [
       "<Figure size 432x288 with 1 Axes>"
      ]
     },
     "metadata": {
      "needs_background": "light"
     },
     "output_type": "display_data"
    },
    {
     "data": {
      "image/png": "[encoded data removed]",
      "text/plain": [
       "<Figure size 432x288 with 1 Axes>"
      ]
     },
     "metadata": {
      "needs_background": "light"
     },
     "output_type": "display_data"
    },
    {
     "data": {
      "image/png": "[encoded data removed]",
      "text/plain": [
       "<Figure size 432x288 with 1 Axes>"
      ]
     },
     "metadata": {
      "needs_background": "light"
     },
     "output_type": "display_data"
    },
    {
     "data": {
      "image/png": "[encoded data removed]",
      "text/plain": [
       "<Figure size 432x288 with 1 Axes>"
      ]
     },
     "metadata": {
      "needs_background": "light"
     },
     "output_type": "display_data"
    }
   ],
   "source": [
    "#check num_var dist\n",
    "\n",
    "for c in num_var:\n",
    "           sns.distplot(data[c],bins=30,kde=False)\n",
    "           plt.show() \n",
    "            "
   ]
  },
  {
   "cell_type": "code",
   "execution_count": 24,
   "metadata": {},
   "outputs": [],
   "source": [
    "# dummy cat vars\n",
    "data = pd.get_dummies(data)"
   ]
  },
  {
   "cell_type": "code",
   "execution_count": 25,
   "metadata": {},
   "outputs": [
    {
     "name": "stdout",
     "output_type": "stream",
     "text": [
      "Rooms : 0.465\n",
      "Price : 1.0\n",
      "Distance : -0.211\n",
      "Postcode : 0.045\n",
      "Bedroom2 : 0.43\n",
      "Bathroom : 0.43\n",
      "Car : 0.202\n",
      "Lattitude : -0.216\n",
      "Longtitude : 0.198\n",
      "Propertycount : -0.059\n",
      "Type_h : 0.347\n",
      "Type_t : -0.064\n",
      "Type_u : -0.346\n",
      "Method_PI : 0.039\n",
      "Method_S : 0.003\n",
      "Method_SA : -0.009\n",
      "Method_SP : -0.104\n",
      "Method_VB : 0.074\n",
      "CouncilArea_Banyule City Council : -0.042\n",
      "CouncilArea_Bayside City Council : 0.184\n",
      "CouncilArea_Boroondara City Council : 0.307\n",
      "CouncilArea_Brimbank City Council : -0.132\n",
      "CouncilArea_Cardinia Shire Council : -0.023\n",
      "CouncilArea_Casey City Council : -0.041\n",
      "CouncilArea_Darebin City Council : -0.071\n",
      "CouncilArea_Frankston City Council : -0.051\n",
      "CouncilArea_Glen Eira City Council : 0.026\n",
      "CouncilArea_Greater Dandenong City Council : -0.049\n",
      "CouncilArea_Hobsons Bay City Council : -0.015\n",
      "CouncilArea_Hume City Council : -0.142\n",
      "CouncilArea_Kingston City Council : -0.024\n",
      "CouncilArea_Knox City Council : -0.026\n",
      "CouncilArea_Macedon Ranges Shire Council : -0.017\n",
      "CouncilArea_Manningham City Council : 0.051\n",
      "CouncilArea_Maribyrnong City Council : -0.074\n",
      "CouncilArea_Maroondah City Council : -0.026\n",
      "CouncilArea_Melbourne City Council : -0.003\n",
      "CouncilArea_Melton City Council : -0.079\n",
      "CouncilArea_Mitchell Shire Council : -0.017\n",
      "CouncilArea_Monash City Council : 0.045\n",
      "CouncilArea_Moonee Valley City Council : -0.006\n",
      "CouncilArea_Moorabool Shire Council : -0.013\n",
      "CouncilArea_Moreland City Council : -0.082\n",
      "CouncilArea_Nillumbik Shire Council : -0.027\n",
      "CouncilArea_Port Phillip City Council : 0.03\n",
      "CouncilArea_Stonnington City Council : 0.15\n",
      "CouncilArea_Whitehorse City Council : 0.025\n",
      "CouncilArea_Whittlesea City Council : -0.109\n",
      "CouncilArea_Wyndham City Council : -0.103\n",
      "CouncilArea_Yarra City Council : 0.015\n",
      "CouncilArea_Yarra Ranges Shire Council : -0.023\n",
      "Regionname_Eastern Metropolitan : 0.034\n",
      "Regionname_Eastern Victoria : -0.041\n",
      "Regionname_Northern Metropolitan : -0.187\n",
      "Regionname_Northern Victoria : -0.053\n",
      "Regionname_South-Eastern Metropolitan : -0.061\n",
      "Regionname_Southern Metropolitan : 0.364\n",
      "Regionname_Western Metropolitan : -0.173\n",
      "Regionname_Western Victoria : -0.057\n"
     ]
    }
   ],
   "source": [
    "for c in data.columns:\n",
    "    print(c,':',corr_cal(c))"
   ]
  },
  {
   "cell_type": "markdown",
   "metadata": {},
   "source": [
    "## 2.\tApply the model for prediction with holdout and cross validation"
   ]
  },
  {
   "cell_type": "code",
   "execution_count": 27,
   "metadata": {},
   "outputs": [
    {
     "name": "stdout",
     "output_type": "stream",
     "text": [
      "(27247, 59)\n",
      "Rooms                                            0\n",
      "Price                                            0\n",
      "Distance                                         1\n",
      "Postcode                                         1\n",
      "Bedroom2                                      6441\n",
      "Bathroom                                      6447\n",
      "Car                                           6824\n",
      "Lattitude                                     6254\n",
      "Longtitude                                    6254\n",
      "Propertycount                                    3\n",
      "Type_h                                           0\n",
      "Type_t                                           0\n",
      "Type_u                                           0\n",
      "Method_PI                                        0\n",
      "Method_S                                         0\n",
      "Method_SA                                        0\n",
      "Method_SP                                        0\n",
      "Method_VB                                        0\n",
      "CouncilArea_Banyule City Council                 0\n",
      "CouncilArea_Bayside City Council                 0\n",
      "CouncilArea_Boroondara City Council              0\n",
      "CouncilArea_Brimbank City Council                0\n",
      "CouncilArea_Cardinia Shire Council               0\n",
      "CouncilArea_Casey City Council                   0\n",
      "CouncilArea_Darebin City Council                 0\n",
      "CouncilArea_Frankston City Council               0\n",
      "CouncilArea_Glen Eira City Council               0\n",
      "CouncilArea_Greater Dandenong City Council       0\n",
      "CouncilArea_Hobsons Bay City Council             0\n",
      "CouncilArea_Hume City Council                    0\n",
      "CouncilArea_Kingston City Council                0\n",
      "CouncilArea_Knox City Council                    0\n",
      "CouncilArea_Macedon Ranges Shire Council         0\n",
      "CouncilArea_Manningham City Council              0\n",
      "CouncilArea_Maribyrnong City Council             0\n",
      "CouncilArea_Maroondah City Council               0\n",
      "CouncilArea_Melbourne City Council               0\n",
      "CouncilArea_Melton City Council                  0\n",
      "CouncilArea_Mitchell Shire Council               0\n",
      "CouncilArea_Monash City Council                  0\n",
      "CouncilArea_Moonee Valley City Council           0\n",
      "CouncilArea_Moorabool Shire Council              0\n",
      "CouncilArea_Moreland City Council                0\n",
      "CouncilArea_Nillumbik Shire Council              0\n",
      "CouncilArea_Port Phillip City Council            0\n",
      "CouncilArea_Stonnington City Council             0\n",
      "CouncilArea_Whitehorse City Council              0\n",
      "CouncilArea_Whittlesea City Council              0\n",
      "CouncilArea_Wyndham City Council                 0\n",
      "CouncilArea_Yarra City Council                   0\n",
      "CouncilArea_Yarra Ranges Shire Council           0\n",
      "Regionname_Eastern Metropolitan                  0\n",
      "Regionname_Eastern Victoria                      0\n",
      "Regionname_Northern Metropolitan                 0\n",
      "Regionname_Northern Victoria                     0\n",
      "Regionname_South-Eastern Metropolitan            0\n",
      "Regionname_Southern Metropolitan                 0\n",
      "Regionname_Western Metropolitan                  0\n",
      "Regionname_Western Victoria                      0\n",
      "dtype: int64\n"
     ]
    }
   ],
   "source": [
    "print(data.shape)\n",
    "print(data.isnull().sum())"
   ]
  },
  {
   "cell_type": "code",
   "execution_count": 28,
   "metadata": {},
   "outputs": [
    {
     "data": {
      "text/html": [
       "<div>\n",
       "<style scoped>\n",
       "    .dataframe tbody tr th:only-of-type {\n",
       "        vertical-align: middle;\n",
       "    }\n",
       "\n",
       "    .dataframe tbody tr th {\n",
       "        vertical-align: top;\n",
       "    }\n",
       "\n",
       "    .dataframe thead th {\n",
       "        text-align: right;\n",
       "    }\n",
       "</style>\n",
       "<table border=\"1\" class=\"dataframe\">\n",
       "  <thead>\n",
       "    <tr style=\"text-align: right;\">\n",
       "      <th></th>\n",
       "      <th>Distance</th>\n",
       "      <th>Postcode</th>\n",
       "      <th>Bedroom2</th>\n",
       "      <th>Bathroom</th>\n",
       "      <th>Car</th>\n",
       "      <th>Lattitude</th>\n",
       "      <th>Longtitude</th>\n",
       "      <th>Propertycount</th>\n",
       "    </tr>\n",
       "  </thead>\n",
       "  <tbody>\n",
       "    <tr>\n",
       "      <th>1</th>\n",
       "      <td>2.5</td>\n",
       "      <td>3067.0</td>\n",
       "      <td>2.0</td>\n",
       "      <td>1.0</td>\n",
       "      <td>1.0</td>\n",
       "      <td>-37.7996</td>\n",
       "      <td>144.9984</td>\n",
       "      <td>4019.0</td>\n",
       "    </tr>\n",
       "    <tr>\n",
       "      <th>2</th>\n",
       "      <td>2.5</td>\n",
       "      <td>3067.0</td>\n",
       "      <td>2.0</td>\n",
       "      <td>1.0</td>\n",
       "      <td>0.0</td>\n",
       "      <td>-37.8079</td>\n",
       "      <td>144.9934</td>\n",
       "      <td>4019.0</td>\n",
       "    </tr>\n",
       "    <tr>\n",
       "      <th>4</th>\n",
       "      <td>2.5</td>\n",
       "      <td>3067.0</td>\n",
       "      <td>3.0</td>\n",
       "      <td>2.0</td>\n",
       "      <td>0.0</td>\n",
       "      <td>-37.8093</td>\n",
       "      <td>144.9944</td>\n",
       "      <td>4019.0</td>\n",
       "    </tr>\n",
       "    <tr>\n",
       "      <th>5</th>\n",
       "      <td>2.5</td>\n",
       "      <td>3067.0</td>\n",
       "      <td>3.0</td>\n",
       "      <td>2.0</td>\n",
       "      <td>1.0</td>\n",
       "      <td>-37.7969</td>\n",
       "      <td>144.9969</td>\n",
       "      <td>4019.0</td>\n",
       "    </tr>\n",
       "  </tbody>\n",
       "</table>\n",
       "</div>"
      ],
      "text/plain": [
       "   Distance  Postcode  Bedroom2  Bathroom  Car  Lattitude  Longtitude  \\\n",
       "1       2.5    3067.0       2.0       1.0  1.0   -37.7996    144.9984   \n",
       "2       2.5    3067.0       2.0       1.0  0.0   -37.8079    144.9934   \n",
       "4       2.5    3067.0       3.0       2.0  0.0   -37.8093    144.9944   \n",
       "5       2.5    3067.0       3.0       2.0  1.0   -37.7969    144.9969   \n",
       "\n",
       "   Propertycount  \n",
       "1         4019.0  \n",
       "2         4019.0  \n",
       "4         4019.0  \n",
       "5         4019.0  "
      ]
     },
     "execution_count": 28,
     "metadata": {},
     "output_type": "execute_result"
    }
   ],
   "source": [
    "data[['Distance','Postcode','Bedroom2','Bathroom', 'Car','Lattitude','Longtitude','Propertycount']].head(4)"
   ]
  },
  {
   "cell_type": "code",
   "execution_count": 30,
   "metadata": {},
   "outputs": [
    {
     "data": {
      "text/html": [
       "<div>\n",
       "<style scoped>\n",
       "    .dataframe tbody tr th:only-of-type {\n",
       "        vertical-align: middle;\n",
       "    }\n",
       "\n",
       "    .dataframe tbody tr th {\n",
       "        vertical-align: top;\n",
       "    }\n",
       "\n",
       "    .dataframe thead th {\n",
       "        text-align: right;\n",
       "    }\n",
       "</style>\n",
       "<table border=\"1\" class=\"dataframe\">\n",
       "  <thead>\n",
       "    <tr style=\"text-align: right;\">\n",
       "      <th></th>\n",
       "      <th>Distance</th>\n",
       "      <th>Postcode</th>\n",
       "      <th>Bedroom2</th>\n",
       "      <th>Bathroom</th>\n",
       "      <th>Car</th>\n",
       "      <th>Lattitude</th>\n",
       "      <th>Longtitude</th>\n",
       "      <th>Propertycount</th>\n",
       "    </tr>\n",
       "  </thead>\n",
       "  <tbody>\n",
       "    <tr>\n",
       "      <th>count</th>\n",
       "      <td>27246.000000</td>\n",
       "      <td>27246.000000</td>\n",
       "      <td>20806.000000</td>\n",
       "      <td>20800.000000</td>\n",
       "      <td>20423.000000</td>\n",
       "      <td>20993.000000</td>\n",
       "      <td>20993.000000</td>\n",
       "      <td>27244.000000</td>\n",
       "    </tr>\n",
       "    <tr>\n",
       "      <th>mean</th>\n",
       "      <td>11.280276</td>\n",
       "      <td>3113.796080</td>\n",
       "      <td>3.046237</td>\n",
       "      <td>1.591683</td>\n",
       "      <td>1.715370</td>\n",
       "      <td>-37.806963</td>\n",
       "      <td>144.996711</td>\n",
       "      <td>7566.781089</td>\n",
       "    </tr>\n",
       "    <tr>\n",
       "      <th>std</th>\n",
       "      <td>6.787469</td>\n",
       "      <td>111.139676</td>\n",
       "      <td>0.955122</td>\n",
       "      <td>0.700880</td>\n",
       "      <td>0.994216</td>\n",
       "      <td>0.091619</td>\n",
       "      <td>0.120680</td>\n",
       "      <td>4492.382418</td>\n",
       "    </tr>\n",
       "    <tr>\n",
       "      <th>min</th>\n",
       "      <td>0.000000</td>\n",
       "      <td>3000.000000</td>\n",
       "      <td>0.000000</td>\n",
       "      <td>0.000000</td>\n",
       "      <td>0.000000</td>\n",
       "      <td>-38.190430</td>\n",
       "      <td>144.423790</td>\n",
       "      <td>83.000000</td>\n",
       "    </tr>\n",
       "    <tr>\n",
       "      <th>25%</th>\n",
       "      <td>6.400000</td>\n",
       "      <td>3046.000000</td>\n",
       "      <td>2.000000</td>\n",
       "      <td>1.000000</td>\n",
       "      <td>1.000000</td>\n",
       "      <td>-37.860900</td>\n",
       "      <td>144.925300</td>\n",
       "      <td>4294.000000</td>\n",
       "    </tr>\n",
       "    <tr>\n",
       "      <th>50%</th>\n",
       "      <td>10.500000</td>\n",
       "      <td>3088.000000</td>\n",
       "      <td>3.000000</td>\n",
       "      <td>1.000000</td>\n",
       "      <td>2.000000</td>\n",
       "      <td>-37.800460</td>\n",
       "      <td>145.003200</td>\n",
       "      <td>6567.000000</td>\n",
       "    </tr>\n",
       "    <tr>\n",
       "      <th>75%</th>\n",
       "      <td>14.000000</td>\n",
       "      <td>3153.000000</td>\n",
       "      <td>4.000000</td>\n",
       "      <td>2.000000</td>\n",
       "      <td>2.000000</td>\n",
       "      <td>-37.748970</td>\n",
       "      <td>145.068770</td>\n",
       "      <td>10412.000000</td>\n",
       "    </tr>\n",
       "    <tr>\n",
       "      <th>max</th>\n",
       "      <td>48.100000</td>\n",
       "      <td>3978.000000</td>\n",
       "      <td>20.000000</td>\n",
       "      <td>9.000000</td>\n",
       "      <td>18.000000</td>\n",
       "      <td>-37.397800</td>\n",
       "      <td>145.526350</td>\n",
       "      <td>21650.000000</td>\n",
       "    </tr>\n",
       "  </tbody>\n",
       "</table>\n",
       "</div>"
      ],
      "text/plain": [
       "           Distance      Postcode      Bedroom2      Bathroom           Car  \\\n",
       "count  27246.000000  27246.000000  20806.000000  20800.000000  20423.000000   \n",
       "mean      11.280276   3113.796080      3.046237      1.591683      1.715370   \n",
       "std        6.787469    111.139676      0.955122      0.700880      0.994216   \n",
       "min        0.000000   3000.000000      0.000000      0.000000      0.000000   \n",
       "25%        6.400000   3046.000000      2.000000      1.000000      1.000000   \n",
       "50%       10.500000   3088.000000      3.000000      1.000000      2.000000   \n",
       "75%       14.000000   3153.000000      4.000000      2.000000      2.000000   \n",
       "max       48.100000   3978.000000     20.000000      9.000000     18.000000   \n",
       "\n",
       "          Lattitude    Longtitude  Propertycount  \n",
       "count  20993.000000  20993.000000   27244.000000  \n",
       "mean     -37.806963    144.996711    7566.781089  \n",
       "std        0.091619      0.120680    4492.382418  \n",
       "min      -38.190430    144.423790      83.000000  \n",
       "25%      -37.860900    144.925300    4294.000000  \n",
       "50%      -37.800460    145.003200    6567.000000  \n",
       "75%      -37.748970    145.068770   10412.000000  \n",
       "max      -37.397800    145.526350   21650.000000  "
      ]
     },
     "execution_count": 30,
     "metadata": {},
     "output_type": "execute_result"
    }
   ],
   "source": [
    "data[['Distance','Postcode','Bedroom2','Bathroom', 'Car','Lattitude','Longtitude','Propertycount']].describe()"
   ]
  },
  {
   "cell_type": "code",
   "execution_count": 39,
   "metadata": {},
   "outputs": [],
   "source": [
    "# fill na \n",
    "data[\"Distance\"].fillna(data[\"Distance\"].mean(), inplace = True) \n",
    "data[\"Postcode\"].fillna(int(data[\"Postcode\"].mode()), inplace = True) \n",
    "data[\"Bedroom2\"].fillna(data[\"Bedroom2\"].min(), inplace = True) \n",
    "data[\"Bathroom\"].fillna(data[\"Bathroom\"].min(), inplace = True) \n",
    "data[\"Car\"].fillna(data[\"Car\"].min(), inplace = True) \n",
    "data[\"Lattitude\"].fillna(int(data[\"Lattitude\"].mode()), inplace = True) \n",
    "data[\"Longtitude\"].fillna(int(data[\"Longtitude\"].mode()), inplace = True) \n",
    "data[\"Propertycount\"].fillna(data[\"Propertycount\"].min(), inplace = True) "
   ]
  },
  {
   "cell_type": "code",
   "execution_count": 41,
   "metadata": {},
   "outputs": [
    {
     "name": "stdout",
     "output_type": "stream",
     "text": [
      "(27247, 59)\n",
      "Rooms                                         0\n",
      "Price                                         0\n",
      "Distance                                      0\n",
      "Postcode                                      0\n",
      "Bedroom2                                      0\n",
      "Bathroom                                      0\n",
      "Car                                           0\n",
      "Lattitude                                     0\n",
      "Longtitude                                    0\n",
      "Propertycount                                 0\n",
      "Type_h                                        0\n",
      "Type_t                                        0\n",
      "Type_u                                        0\n",
      "Method_PI                                     0\n",
      "Method_S                                      0\n",
      "Method_SA                                     0\n",
      "Method_SP                                     0\n",
      "Method_VB                                     0\n",
      "CouncilArea_Banyule City Council              0\n",
      "CouncilArea_Bayside City Council              0\n",
      "CouncilArea_Boroondara City Council           0\n",
      "CouncilArea_Brimbank City Council             0\n",
      "CouncilArea_Cardinia Shire Council            0\n",
      "CouncilArea_Casey City Council                0\n",
      "CouncilArea_Darebin City Council              0\n",
      "CouncilArea_Frankston City Council            0\n",
      "CouncilArea_Glen Eira City Council            0\n",
      "CouncilArea_Greater Dandenong City Council    0\n",
      "CouncilArea_Hobsons Bay City Council          0\n",
      "CouncilArea_Hume City Council                 0\n",
      "CouncilArea_Kingston City Council             0\n",
      "CouncilArea_Knox City Council                 0\n",
      "CouncilArea_Macedon Ranges Shire Council      0\n",
      "CouncilArea_Manningham City Council           0\n",
      "CouncilArea_Maribyrnong City Council          0\n",
      "CouncilArea_Maroondah City Council            0\n",
      "CouncilArea_Melbourne City Council            0\n",
      "CouncilArea_Melton City Council               0\n",
      "CouncilArea_Mitchell Shire Council            0\n",
      "CouncilArea_Monash City Council               0\n",
      "CouncilArea_Moonee Valley City Council        0\n",
      "CouncilArea_Moorabool Shire Council           0\n",
      "CouncilArea_Moreland City Council             0\n",
      "CouncilArea_Nillumbik Shire Council           0\n",
      "CouncilArea_Port Phillip City Council         0\n",
      "CouncilArea_Stonnington City Council          0\n",
      "CouncilArea_Whitehorse City Council           0\n",
      "CouncilArea_Whittlesea City Council           0\n",
      "CouncilArea_Wyndham City Council              0\n",
      "CouncilArea_Yarra City Council                0\n",
      "CouncilArea_Yarra Ranges Shire Council        0\n",
      "Regionname_Eastern Metropolitan               0\n",
      "Regionname_Eastern Victoria                   0\n",
      "Regionname_Northern Metropolitan              0\n",
      "Regionname_Northern Victoria                  0\n",
      "Regionname_South-Eastern Metropolitan         0\n",
      "Regionname_Southern Metropolitan              0\n",
      "Regionname_Western Metropolitan               0\n",
      "Regionname_Western Victoria                   0\n",
      "dtype: int64\n"
     ]
    }
   ],
   "source": [
    "print(data.shape)\n",
    "print(data.isnull().sum())"
   ]
  },
  {
   "cell_type": "code",
   "execution_count": 81,
   "metadata": {},
   "outputs": [],
   "source": [
    "# data for training\n",
    "X = data.drop(columns=['Price'])\n",
    "y=data.Price\n"
   ]
  },
  {
   "cell_type": "code",
   "execution_count": 82,
   "metadata": {},
   "outputs": [
    {
     "data": {
      "text/plain": [
       "SelectKBest(k=20, score_func=<function f_regression at 0x000002D5912837B8>)"
      ]
     },
     "execution_count": 82,
     "metadata": {},
     "output_type": "execute_result"
    }
   ],
   "source": [
    "from sklearn.feature_selection import SelectKBest, f_regression\n",
    "select20best = SelectKBest(f_regression, k=20)\n",
    "select20best.fit(X,y)"
   ]
  },
  {
   "cell_type": "code",
   "execution_count": 83,
   "metadata": {},
   "outputs": [],
   "source": [
    "selected_features = pd.DataFrame({'feature': X.columns,'score':select20best.scores_}) \n"
   ]
  },
  {
   "cell_type": "code",
   "execution_count": 84,
   "metadata": {},
   "outputs": [
    {
     "name": "stdout",
     "output_type": "stream",
     "text": [
      "                                       feature        score\n",
      "0                                        Rooms  7526.087835\n",
      "55            Regionname_Southern Metropolitan  4153.133280\n",
      "9                                       Type_h  3736.926660\n",
      "11                                      Type_u  3714.684619\n",
      "4                                     Bathroom  3538.926191\n",
      "19         CouncilArea_Boroondara City Council  2837.929262\n",
      "3                                     Bedroom2  2725.618922\n",
      "1                                     Distance  1274.316917\n",
      "5                                          Car  1157.272950\n",
      "52            Regionname_Northern Metropolitan   991.268900\n",
      "18            CouncilArea_Bayside City Council   950.891125\n",
      "56             Regionname_Western Metropolitan   836.626081\n",
      "6                                    Lattitude   665.441500\n",
      "7                                   Longtitude   652.245954\n",
      "44        CouncilArea_Stonnington City Council   628.047162\n",
      "28               CouncilArea_Hume City Council   556.930794\n",
      "20           CouncilArea_Brimbank City Council   481.625202\n",
      "46         CouncilArea_Whittlesea City Council   326.830897\n",
      "15                                   Method_SP   298.808680\n",
      "47            CouncilArea_Wyndham City Council   290.669847\n",
      "41           CouncilArea_Moreland City Council   186.341731\n",
      "36             CouncilArea_Melton City Council   171.048615\n",
      "33        CouncilArea_Maribyrnong City Council   151.560672\n",
      "16                                   Method_VB   150.928728\n",
      "23            CouncilArea_Darebin City Council   137.254357\n",
      "10                                      Type_t   110.850399\n",
      "54       Regionname_South-Eastern Metropolitan   102.362807\n",
      "8                                Propertycount    94.884765\n",
      "57                 Regionname_Western Victoria    89.584437\n",
      "53                Regionname_Northern Victoria    75.648823\n",
      "32         CouncilArea_Manningham City Council    71.450928\n",
      "24          CouncilArea_Frankston City Council    69.814861\n",
      "26  CouncilArea_Greater Dandenong City Council    65.356321\n",
      "38             CouncilArea_Monash City Council    56.098776\n",
      "2                                     Postcode    55.180849\n",
      "17            CouncilArea_Banyule City Council    48.534832\n",
      "51                 Regionname_Eastern Victoria    45.857020\n",
      "22              CouncilArea_Casey City Council    45.459445\n",
      "12                                   Method_PI    41.248622\n",
      "50             Regionname_Eastern Metropolitan    31.013545\n",
      "43       CouncilArea_Port Phillip City Council    24.731135\n",
      "42         CouncilArea_Nillumbik Shire Council    20.229693\n",
      "34          CouncilArea_Maroondah City Council    19.028558\n",
      "30               CouncilArea_Knox City Council    19.004622\n",
      "25          CouncilArea_Glen Eira City Council    18.814147\n",
      "45         CouncilArea_Whitehorse City Council    16.452783\n",
      "29           CouncilArea_Kingston City Council    15.616330\n",
      "49      CouncilArea_Yarra Ranges Shire Council    14.463664\n",
      "21          CouncilArea_Cardinia Shire Council    14.412697\n",
      "31    CouncilArea_Macedon Ranges Shire Council     8.006021\n",
      "37          CouncilArea_Mitchell Shire Council     7.423850\n",
      "48              CouncilArea_Yarra City Council     6.513965\n",
      "27        CouncilArea_Hobsons Bay City Council     5.940596\n",
      "40         CouncilArea_Moorabool Shire Council     4.913239\n",
      "14                                   Method_SA     2.129301\n",
      "39      CouncilArea_Moonee Valley City Council     0.954124\n",
      "35          CouncilArea_Melbourne City Council     0.264688\n",
      "13                                    Method_S     0.197254\n"
     ]
    }
   ],
   "source": [
    "print(selected_features.sort_values(by=['score'],ascending=False))\n",
    "sorted_selected_features = selected_features.sort_values(by=['score'],ascending=False)"
   ]
  },
  {
   "cell_type": "code",
   "execution_count": 89,
   "metadata": {},
   "outputs": [
    {
     "data": {
      "text/plain": [
       "(58, 2)"
      ]
     },
     "execution_count": 89,
     "metadata": {},
     "output_type": "execute_result"
    }
   ],
   "source": [
    "sorted_selected_features.shape"
   ]
  },
  {
   "cell_type": "code",
   "execution_count": 90,
   "metadata": {},
   "outputs": [
    {
     "name": "stdout",
     "output_type": "stream",
     "text": [
      "a = [ 2.47737355e+05  3.46248118e+04  2.64171659e+05 -2.26919363e+05\n",
      "  1.63889563e+05  3.48189659e+05 -6.29667051e+04 -3.38683895e+04\n",
      "  2.76358612e+04 -1.69469306e+05  3.52845441e+05 -2.55272737e+05\n",
      " -4.66390249e+05 -5.00735615e+05  3.68207401e+05 -2.67940980e+05\n",
      " -3.02244617e+05 -1.56039394e+05 -3.14930845e+04 -4.87744550e+05\n",
      " -1.32211801e+05 -4.12053734e+05 -1.79546590e+05 -1.70095249e+04\n",
      " -9.49360205e+04 -3.72522960e+04  4.65913474e+04  1.80840567e+00\n",
      "  5.41383776e+03  9.76626624e+04]\n",
      "b = 55504567.51207721\n",
      "415952.2376388133\n",
      "0.5935638681389267\n"
     ]
    }
   ],
   "source": [
    "#%% Train-test split\n",
    "from sklearn.model_selection import train_test_split\n",
    "X_train, X_test, y_train, y_test = train_test_split(X[sorted_selected_features.feature[:30].to_list()], y,\n",
    "                                                    test_size = 0.3,\n",
    "                                                    random_state = 10)\n",
    "#%% Modeling\n",
    "from sklearn.linear_model import LinearRegression\n",
    "regressor = LinearRegression()  # Initialize model object\n",
    "# Fit\n",
    "regressor.fit(X_train, y_train)\n",
    "# Print coefficient\n",
    "print('a = ' + str(regressor.coef_))\n",
    "print('b = ' + str(regressor.intercept_))\n",
    "# Predict\n",
    "y_hat = regressor.predict(X_test)\n",
    "# Evaluate\n",
    "from sklearn.metrics import mean_squared_error, r2_score\n",
    "print(np.sqrt(mean_squared_error(y_test, y_hat)))\n",
    "print(r2_score(y_test, y_hat))"
   ]
  },
  {
   "cell_type": "code",
   "execution_count": 92,
   "metadata": {},
   "outputs": [
    {
     "name": "stdout",
     "output_type": "stream",
     "text": [
      "[ 1  1  1  1  1  1  1  1 35  1  7  1 13  8 39  1  9 23  1  1  1 32 22 37\n",
      " 30  6 24 21  1 16 25 38  1 11 19 10 15 34  3 14 36  4 31 20 17 12  2  5\n",
      " 28 33  1 29  1 27 18  1  1 26]\n"
     ]
    }
   ],
   "source": [
    "from sklearn.feature_selection import RFE\n",
    "from sklearn.svm import SVR\n",
    "estimator = SVR(kernel=\"linear\")\n",
    "selector = RFE(estimator, n_features_to_select=20, step=1)\n",
    "selector = selector.fit(X, y)\n",
    "print(selector.ranking_)"
   ]
  },
  {
   "cell_type": "code",
   "execution_count": 94,
   "metadata": {},
   "outputs": [
    {
     "name": "stdout",
     "output_type": "stream",
     "text": [
      "                                       feature  rank\n",
      "0                                        Rooms     1\n",
      "55            Regionname_Southern Metropolitan     1\n",
      "52            Regionname_Northern Metropolitan     1\n",
      "50             Regionname_Eastern Metropolitan     1\n",
      "32         CouncilArea_Manningham City Council     1\n",
      "56             Regionname_Western Metropolitan     1\n",
      "20           CouncilArea_Brimbank City Council     1\n",
      "19         CouncilArea_Boroondara City Council     1\n",
      "18            CouncilArea_Bayside City Council     1\n",
      "15                                   Method_SP     1\n",
      "11                                      Type_u     1\n",
      "28               CouncilArea_Hume City Council     1\n",
      "3                                     Bedroom2     1\n",
      "5                                          Car     1\n",
      "1                                     Distance     1\n",
      "9                                       Type_h     1\n",
      "4                                     Bathroom     1\n",
      "2                                     Postcode     1\n",
      "7                                   Longtitude     1\n",
      "6                                    Lattitude     1\n",
      "46         CouncilArea_Whittlesea City Council     2\n",
      "38             CouncilArea_Monash City Council     3\n",
      "41           CouncilArea_Moreland City Council     4\n",
      "47            CouncilArea_Wyndham City Council     5\n",
      "25          CouncilArea_Glen Eira City Council     6\n",
      "10                                      Type_t     7\n",
      "13                                    Method_S     8\n",
      "16                                   Method_VB     9\n",
      "35          CouncilArea_Melbourne City Council    10\n",
      "33        CouncilArea_Maribyrnong City Council    11\n",
      "45         CouncilArea_Whitehorse City Council    12\n",
      "12                                   Method_PI    13\n",
      "39      CouncilArea_Moonee Valley City Council    14\n",
      "36             CouncilArea_Melton City Council    15\n",
      "29           CouncilArea_Kingston City Council    16\n",
      "44        CouncilArea_Stonnington City Council    17\n",
      "54       Regionname_South-Eastern Metropolitan    18\n",
      "34          CouncilArea_Maroondah City Council    19\n",
      "43       CouncilArea_Port Phillip City Council    20\n",
      "27        CouncilArea_Hobsons Bay City Council    21\n",
      "22              CouncilArea_Casey City Council    22\n",
      "17            CouncilArea_Banyule City Council    23\n",
      "26  CouncilArea_Greater Dandenong City Council    24\n",
      "30               CouncilArea_Knox City Council    25\n",
      "57                 Regionname_Western Victoria    26\n",
      "53                Regionname_Northern Victoria    27\n",
      "48              CouncilArea_Yarra City Council    28\n",
      "51                 Regionname_Eastern Victoria    29\n",
      "24          CouncilArea_Frankston City Council    30\n",
      "42         CouncilArea_Nillumbik Shire Council    31\n",
      "21          CouncilArea_Cardinia Shire Council    32\n",
      "49      CouncilArea_Yarra Ranges Shire Council    33\n",
      "37          CouncilArea_Mitchell Shire Council    34\n",
      "8                                Propertycount    35\n",
      "40         CouncilArea_Moorabool Shire Council    36\n",
      "23            CouncilArea_Darebin City Council    37\n",
      "31    CouncilArea_Macedon Ranges Shire Council    38\n",
      "14                                   Method_SA    39\n"
     ]
    }
   ],
   "source": [
    "RFE_selected_features = pd.DataFrame({'feature': X.columns,'rank':selector.ranking_}) \n",
    "sorted_RFE_selected_features = RFE_selected_features.sort_values(by=['rank'])\n",
    "print(sorted_RFE_selected_features)"
   ]
  },
  {
   "cell_type": "code",
   "execution_count": 96,
   "metadata": {},
   "outputs": [
    {
     "name": "stdout",
     "output_type": "stream",
     "text": [
      "a = [ 2.58179013e+05  1.81330102e+04 -3.09614968e+05 -9.10475061e+04\n",
      "  1.60651833e+04 -3.46341747e+05 -2.44644336e+05  2.54838576e+05\n",
      "  2.88485635e+05  1.66732374e+04 -2.23342014e+05 -1.78563470e+05\n",
      " -7.28900216e+04  2.94502626e+04 -4.05698589e+04  2.59121721e+05\n",
      "  1.65868859e+05  3.01183506e+02 -3.54873599e+05 -3.13807993e+05\n",
      " -1.29760474e+05 -3.03765018e+04 -8.09445929e+04 -3.58559087e+05\n",
      " -6.49897195e+04 -3.57797069e+04  6.18771074e+04  3.46867555e+04\n",
      " -2.68548250e+04 -1.60800456e+05]\n",
      "b = 39302203.22239127\n",
      "420740.63522079424\n",
      "0.5841523073442382\n"
     ]
    }
   ],
   "source": [
    "#%% Train-test split\n",
    "from sklearn.model_selection import train_test_split\n",
    "X_train, X_test, y_train, y_test = train_test_split(X[sorted_RFE_selected_features.feature[:30].to_list()], y,\n",
    "                                                    test_size = 0.3,\n",
    "                                                    random_state = 10)\n",
    "#%% Modeling\n",
    "from sklearn.linear_model import LinearRegression\n",
    "regressor = LinearRegression()  # Initialize model object\n",
    "# Fit\n",
    "regressor.fit(X_train, y_train)\n",
    "# Print coefficient\n",
    "print('a = ' + str(regressor.coef_))\n",
    "print('b = ' + str(regressor.intercept_))\n",
    "# Predict\n",
    "y_hat = regressor.predict(X_test)\n",
    "# Evaluate\n",
    "from sklearn.metrics import mean_squared_error, r2_score\n",
    "print(np.sqrt(mean_squared_error(y_test, y_hat)))\n",
    "print(r2_score(y_test, y_hat))"
   ]
  },
  {
   "cell_type": "markdown",
   "metadata": {},
   "source": [
    "## 3.\tUsing PCA, apply the model with holdout and cross validation"
   ]
  },
  {
   "cell_type": "code",
   "execution_count": 101,
   "metadata": {},
   "outputs": [
    {
     "name": "stdout",
     "output_type": "stream",
     "text": [
      "a = [-7.97929170e+00  2.86288950e+02 -2.74721886e+04  1.25598236e+05\n",
      " -2.85466428e+05  1.88392342e+05  1.55552516e+05 -1.90085995e+05\n",
      "  8.22930518e+04  2.57025779e+05 -3.39264944e+05 -5.09800677e+04\n",
      " -5.90091467e+04  1.00621996e+05 -1.12265815e+04  9.85400096e+04\n",
      " -1.11505901e+05 -1.80984803e+05  1.75445295e+03  2.71965655e+05\n",
      "  8.49407706e+04 -2.02888601e+04 -5.05034623e+04 -1.98681049e+04\n",
      "  1.44217727e+04  2.47391188e+05 -3.20982495e+03  2.09511671e+05\n",
      "  9.73851968e+04  6.07144848e+01  1.32085785e+05 -6.84228531e+04\n",
      " -2.81910718e+05 -9.54853232e+04  4.98838941e+04 -1.05916813e+05\n",
      " -2.24441347e+05  1.21190343e+04 -1.28386697e+05 -6.98556779e+02\n",
      "  5.83755574e+05  7.24576994e+04 -4.30391760e+05  4.11898883e+05\n",
      " -2.19830911e+05  3.66974216e+04 -3.68851519e+05 -3.09958692e+05\n",
      "  6.63473549e+04 -7.14557282e+05]\n",
      "b = 1049493.3683934635\n",
      "411116.12738775637\n",
      "0.6029598675792245\n"
     ]
    }
   ],
   "source": [
    "#%% Train-test split\n",
    "from sklearn.model_selection import train_test_split\n",
    "X_train, X_test, y_train, y_test = train_test_split(X, y,\n",
    "                                                    test_size = 0.3,\n",
    "                                                    random_state = 10)\n",
    "from sklearn import decomposition\n",
    "\n",
    "np.random.seed(5)\n",
    "\n",
    "pca = decomposition.PCA(n_components=50)\n",
    "pca.fit(X_train)\n",
    "X_train = pca.transform(X_train)\n",
    "X_test = pca.transform(X_test)\n",
    "\n",
    "#%% Modeling\n",
    "from sklearn.linear_model import LinearRegression\n",
    "regressor = LinearRegression()  # Initialize model object\n",
    "# Fit\n",
    "regressor.fit(X_train, y_train)\n",
    "# Print coefficient\n",
    "print('a = ' + str(regressor.coef_))\n",
    "print('b = ' + str(regressor.intercept_))\n",
    "# Predict\n",
    "y_hat = regressor.predict(X_test)\n",
    "# Evaluate\n",
    "from sklearn.metrics import mean_squared_error, r2_score\n",
    "print(np.sqrt(mean_squared_error(y_test, y_hat)))\n",
    "print(r2_score(y_test, y_hat))"
   ]
  },
  {
   "cell_type": "markdown",
   "metadata": {},
   "source": [
    "## 4.\tVisualize the residue and homoscedasticity"
   ]
  },
  {
   "cell_type": "code",
   "execution_count": 102,
   "metadata": {},
   "outputs": [
    {
     "data": {
      "image/png": "[encoded data removed]",
      "text/plain": [
       "<Figure size 432x180 with 1 Axes>"
      ]
     },
     "metadata": {
      "needs_background": "light"
     },
     "output_type": "display_data"
    }
   ],
   "source": [
    "residual = y_test - y_hat\n",
    "fig, ax = plt.subplots(figsize=(6,2.5))\n",
    "_ = ax.scatter(residual, y_hat)"
   ]
  },
  {
   "cell_type": "code",
   "execution_count": 104,
   "metadata": {},
   "outputs": [
    {
     "ename": "AttributeError",
     "evalue": "'LinearRegression' object has no attribute 'model'",
     "output_type": "error",
     "traceback": [
      "\u001b[1;31m---------------------------------------------------------------------------\u001b[0m",
      "\u001b[1;31mAttributeError\u001b[0m                            Traceback (most recent call last)",
      "\u001b[1;32m<ipython-input-104-440f78cac032>\u001b[0m in \u001b[0;36m<module>\u001b[1;34m\u001b[0m\n\u001b[0;32m      1\u001b[0m \u001b[1;32mimport\u001b[0m \u001b[0mstatsmodels\u001b[0m\u001b[1;33m.\u001b[0m\u001b[0mstats\u001b[0m\u001b[1;33m.\u001b[0m\u001b[0mapi\u001b[0m \u001b[1;32mas\u001b[0m \u001b[0msms\u001b[0m\u001b[1;33m\u001b[0m\u001b[0m\n\u001b[1;32m----> 2\u001b[1;33m \u001b[0msms\u001b[0m\u001b[1;33m.\u001b[0m\u001b[0mlinear_harvey_collier\u001b[0m\u001b[1;33m(\u001b[0m\u001b[0mregressor\u001b[0m\u001b[1;33m)\u001b[0m\u001b[1;33m\u001b[0m\u001b[0m\n\u001b[0m",
      "\u001b[1;32m~\\Anaconda3\\lib\\site-packages\\statsmodels\\stats\\diagnostic.py\u001b[0m in \u001b[0;36mlinear_harvey_collier\u001b[1;34m(res, order_by, skip)\u001b[0m\n\u001b[0;32m   1329\u001b[0m     \u001b[1;31m# B.H. Baltagi, Econometrics, 2011, chapter 8\u001b[0m\u001b[1;33m\u001b[0m\u001b[1;33m\u001b[0m\u001b[0m\n\u001b[0;32m   1330\u001b[0m     \u001b[1;31m# but it matches Gretl and R:lmtest, pvalue at decimal=13\u001b[0m\u001b[1;33m\u001b[0m\u001b[1;33m\u001b[0m\u001b[0m\n\u001b[1;32m-> 1331\u001b[1;33m     \u001b[0mrr\u001b[0m \u001b[1;33m=\u001b[0m \u001b[0mrecursive_olsresiduals\u001b[0m\u001b[1;33m(\u001b[0m\u001b[0mres\u001b[0m\u001b[1;33m,\u001b[0m \u001b[0mskip\u001b[0m\u001b[1;33m=\u001b[0m\u001b[0mskip\u001b[0m\u001b[1;33m,\u001b[0m \u001b[0malpha\u001b[0m\u001b[1;33m=\u001b[0m\u001b[1;36m0.95\u001b[0m\u001b[1;33m,\u001b[0m \u001b[0morder_by\u001b[0m\u001b[1;33m=\u001b[0m\u001b[0morder_by\u001b[0m\u001b[1;33m)\u001b[0m\u001b[1;33m\u001b[0m\u001b[0m\n\u001b[0m\u001b[0;32m   1332\u001b[0m \u001b[1;33m\u001b[0m\u001b[0m\n\u001b[0;32m   1333\u001b[0m     \u001b[1;32mreturn\u001b[0m \u001b[0mstats\u001b[0m\u001b[1;33m.\u001b[0m\u001b[0mttest_1samp\u001b[0m\u001b[1;33m(\u001b[0m\u001b[0mrr\u001b[0m\u001b[1;33m[\u001b[0m\u001b[1;36m3\u001b[0m\u001b[1;33m]\u001b[0m\u001b[1;33m[\u001b[0m\u001b[1;36m3\u001b[0m\u001b[1;33m:\u001b[0m\u001b[1;33m]\u001b[0m\u001b[1;33m,\u001b[0m \u001b[1;36m0\u001b[0m\u001b[1;33m)\u001b[0m\u001b[1;33m\u001b[0m\u001b[0m\n",
      "\u001b[1;32m~\\Anaconda3\\lib\\site-packages\\pandas\\util\\_decorators.py\u001b[0m in \u001b[0;36mwrapper\u001b[1;34m(*args, **kwargs)\u001b[0m\n\u001b[0;32m    197\u001b[0m                 \u001b[1;32melse\u001b[0m\u001b[1;33m:\u001b[0m\u001b[1;33m\u001b[0m\u001b[0m\n\u001b[0;32m    198\u001b[0m                     \u001b[0mkwargs\u001b[0m\u001b[1;33m[\u001b[0m\u001b[0mnew_arg_name\u001b[0m\u001b[1;33m]\u001b[0m \u001b[1;33m=\u001b[0m \u001b[0mnew_arg_value\u001b[0m\u001b[1;33m\u001b[0m\u001b[0m\n\u001b[1;32m--> 199\u001b[1;33m             \u001b[1;32mreturn\u001b[0m \u001b[0mfunc\u001b[0m\u001b[1;33m(\u001b[0m\u001b[1;33m*\u001b[0m\u001b[0margs\u001b[0m\u001b[1;33m,\u001b[0m \u001b[1;33m**\u001b[0m\u001b[0mkwargs\u001b[0m\u001b[1;33m)\u001b[0m\u001b[1;33m\u001b[0m\u001b[0m\n\u001b[0m\u001b[0;32m    200\u001b[0m \u001b[1;33m\u001b[0m\u001b[0m\n\u001b[0;32m    201\u001b[0m         \u001b[1;32mreturn\u001b[0m \u001b[0mcast\u001b[0m\u001b[1;33m(\u001b[0m\u001b[0mF\u001b[0m\u001b[1;33m,\u001b[0m \u001b[0mwrapper\u001b[0m\u001b[1;33m)\u001b[0m\u001b[1;33m\u001b[0m\u001b[0m\n",
      "\u001b[1;32m~\\Anaconda3\\lib\\site-packages\\statsmodels\\stats\\diagnostic.py\u001b[0m in \u001b[0;36mrecursive_olsresiduals\u001b[1;34m(res, skip, lamda, alpha, order_by)\u001b[0m\n\u001b[0;32m   1637\u001b[0m     \u001b[0mno\u001b[0m\u001b[1;33m.\u001b[0m \u001b[1;36m2\u001b[0m \u001b[1;33m(\u001b[0m\u001b[1;36m1975\u001b[0m\u001b[1;33m)\u001b[0m\u001b[1;33m:\u001b[0m \u001b[1;36m149\u001b[0m\u001b[1;33m-\u001b[0m\u001b[1;36m192.\u001b[0m\u001b[1;33m\u001b[0m\u001b[0m\n\u001b[0;32m   1638\u001b[0m     \"\"\"\n\u001b[1;32m-> 1639\u001b[1;33m     \u001b[0my\u001b[0m \u001b[1;33m=\u001b[0m \u001b[0mres\u001b[0m\u001b[1;33m.\u001b[0m\u001b[0mmodel\u001b[0m\u001b[1;33m.\u001b[0m\u001b[0mendog\u001b[0m\u001b[1;33m\u001b[0m\u001b[0m\n\u001b[0m\u001b[0;32m   1640\u001b[0m     \u001b[0mx\u001b[0m \u001b[1;33m=\u001b[0m \u001b[0mres\u001b[0m\u001b[1;33m.\u001b[0m\u001b[0mmodel\u001b[0m\u001b[1;33m.\u001b[0m\u001b[0mexog\u001b[0m\u001b[1;33m\u001b[0m\u001b[0m\n\u001b[0;32m   1641\u001b[0m     order_by = array_like(order_by, \"order_by\", dtype=\"int\", optional=True,\n",
      "\u001b[1;31mAttributeError\u001b[0m: 'LinearRegression' object has no attribute 'model'"
     ]
    }
   ],
   "source": [
    "import statsmodels.stats.api as sms\n",
    "sms.linear_harvey_collier(regressor)"
   ]
  },
  {
   "cell_type": "code",
   "execution_count": 105,
   "metadata": {},
   "outputs": [
    {
     "data": {
      "text/plain": [
       "0.8016925145307533"
      ]
     },
     "execution_count": 105,
     "metadata": {},
     "output_type": "execute_result"
    },
    {
     "data": {
      "image/png": "[encoded data removed]",
      "text/plain": [
       "<Figure size 432x180 with 1 Axes>"
      ]
     },
     "metadata": {
      "needs_background": "light"
     },
     "output_type": "display_data"
    }
   ],
   "source": [
    "import scipy as sp\n",
    "fig, ax = plt.subplots(figsize=(6,2.5))\n",
    "_, (__, ___, r) = sp.stats.probplot(residual, plot=ax, fit=True)\n",
    "r**2"
   ]
  },
  {
   "cell_type": "code",
   "execution_count": null,
   "metadata": {},
   "outputs": [],
   "source": [
    "regressor."
   ]
  },
  {
   "cell_type": "markdown",
   "metadata": {},
   "source": [
    "## 5.\tTune the model if necessary"
   ]
  },
  {
   "cell_type": "code",
   "execution_count": null,
   "metadata": {},
   "outputs": [],
   "source": []
  },
  {
   "cell_type": "code",
   "execution_count": null,
   "metadata": {},
   "outputs": [],
   "source": []
  },
  {
   "cell_type": "markdown",
   "metadata": {},
   "source": [
    "## 6.\tWrite up analysis for each section (for example, explain why the model is overfitting, explain why applying PCA is better, etc.)"
   ]
  },
  {
   "cell_type": "code",
   "execution_count": null,
   "metadata": {},
   "outputs": [],
   "source": []
  },
  {
   "cell_type": "code",
   "execution_count": null,
   "metadata": {},
   "outputs": [],
   "source": []
  },
  {
   "cell_type": "markdown",
   "metadata": {},
   "source": [
    "## 7.\tInclude conclusions for summary"
   ]
  },
  {
   "cell_type": "code",
   "execution_count": null,
   "metadata": {},
   "outputs": [],
   "source": []
  },
  {
   "cell_type": "code",
   "execution_count": null,
   "metadata": {},
   "outputs": [],
   "source": []
  }
 ],
 "metadata": {
  "kernelspec": {
   "display_name": "Python 3",
   "language": "python",
   "name": "python3"
  },
  "language_info": {
   "codemirror_mode": {
    "name": "ipython",
    "version": 3
   },
   "file_extension": ".py",
   "mimetype": "text/x-python",
   "name": "python",
   "nbconvert_exporter": "python",
   "pygments_lexer": "ipython3",
   "version": "3.6.5"
  }
 },
 "nbformat": 4,
 "nbformat_minor": 4
}
